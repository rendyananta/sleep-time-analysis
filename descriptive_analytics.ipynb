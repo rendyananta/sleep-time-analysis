{
 "cells": [
  {
   "cell_type": "code",
   "execution_count": 2,
   "metadata": {},
   "outputs": [],
   "source": [
    "import pandas as pd\n",
    "import seaborn as sns"
   ]
  },
  {
   "cell_type": "code",
   "execution_count": 3,
   "metadata": {},
   "outputs": [
    {
     "data": {
      "text/plain": [
       "(38, 12)"
      ]
     },
     "execution_count": 3,
     "metadata": {},
     "output_type": "execute_result"
    }
   ],
   "source": [
    "#1 Encode datasets\n",
    "\n",
    "raw = pd.read_csv(\"dataset/adjusted.csv\")\n",
    "raw.shape"
   ]
  },
  {
   "cell_type": "code",
   "execution_count": 4,
   "metadata": {},
   "outputs": [
    {
     "data": {
      "text/plain": [
       "Index(['timestamp', 'age', 'sex', 'occupation', 'must_use_phone',\n",
       "       'screen_time', 'sleep_time', 'is_smoker', 'is_alcoholics',\n",
       "       'is_consuming_special_medicine', 'is_screen_time_distract_sleep',\n",
       "       'difference_before_pandemic'],\n",
       "      dtype='object')"
      ]
     },
     "execution_count": 4,
     "metadata": {},
     "output_type": "execute_result"
    }
   ],
   "source": [
    "raw.columns"
   ]
  },
  {
   "cell_type": "code",
   "execution_count": 5,
   "metadata": {},
   "outputs": [
    {
     "data": {
      "text/html": [
       "<div>\n",
       "<style scoped>\n",
       "    .dataframe tbody tr th:only-of-type {\n",
       "        vertical-align: middle;\n",
       "    }\n",
       "\n",
       "    .dataframe tbody tr th {\n",
       "        vertical-align: top;\n",
       "    }\n",
       "\n",
       "    .dataframe thead th {\n",
       "        text-align: right;\n",
       "    }\n",
       "</style>\n",
       "<table border=\"1\" class=\"dataframe\">\n",
       "  <thead>\n",
       "    <tr style=\"text-align: right;\">\n",
       "      <th></th>\n",
       "      <th>age</th>\n",
       "    </tr>\n",
       "    <tr>\n",
       "      <th>sex</th>\n",
       "      <th></th>\n",
       "    </tr>\n",
       "  </thead>\n",
       "  <tbody>\n",
       "    <tr>\n",
       "      <th>Pria</th>\n",
       "      <td>27</td>\n",
       "    </tr>\n",
       "    <tr>\n",
       "      <th>Wanita</th>\n",
       "      <td>11</td>\n",
       "    </tr>\n",
       "  </tbody>\n",
       "</table>\n",
       "</div>"
      ],
      "text/plain": [
       "        age\n",
       "sex        \n",
       "Pria     27\n",
       "Wanita   11"
      ]
     },
     "execution_count": 5,
     "metadata": {},
     "output_type": "execute_result"
    }
   ],
   "source": [
    "# Demography of the respondents\n",
    "\n",
    "raw[[\"sex\", \"age\"]].groupby(\"sex\").count()"
   ]
  },
  {
   "cell_type": "code",
   "execution_count": 6,
   "metadata": {
    "scrolled": true
   },
   "outputs": [
    {
     "data": {
      "text/html": [
       "<div>\n",
       "<style scoped>\n",
       "    .dataframe tbody tr th:only-of-type {\n",
       "        vertical-align: middle;\n",
       "    }\n",
       "\n",
       "    .dataframe tbody tr th {\n",
       "        vertical-align: top;\n",
       "    }\n",
       "\n",
       "    .dataframe thead th {\n",
       "        text-align: right;\n",
       "    }\n",
       "</style>\n",
       "<table border=\"1\" class=\"dataframe\">\n",
       "  <thead>\n",
       "    <tr style=\"text-align: right;\">\n",
       "      <th></th>\n",
       "      <th>screen_time</th>\n",
       "      <th>sleep_time</th>\n",
       "    </tr>\n",
       "  </thead>\n",
       "  <tbody>\n",
       "    <tr>\n",
       "      <th>count</th>\n",
       "      <td>38</td>\n",
       "      <td>38</td>\n",
       "    </tr>\n",
       "    <tr>\n",
       "      <th>unique</th>\n",
       "      <td>5</td>\n",
       "      <td>2</td>\n",
       "    </tr>\n",
       "    <tr>\n",
       "      <th>top</th>\n",
       "      <td>6 - 8 jam sehari</td>\n",
       "      <td>6 - 8 jam sehari</td>\n",
       "    </tr>\n",
       "    <tr>\n",
       "      <th>freq</th>\n",
       "      <td>14</td>\n",
       "      <td>25</td>\n",
       "    </tr>\n",
       "  </tbody>\n",
       "</table>\n",
       "</div>"
      ],
      "text/plain": [
       "             screen_time        sleep_time\n",
       "count                 38                38\n",
       "unique                 5                 2\n",
       "top     6 - 8 jam sehari  6 - 8 jam sehari\n",
       "freq                  14                25"
      ]
     },
     "execution_count": 6,
     "metadata": {},
     "output_type": "execute_result"
    }
   ],
   "source": [
    "# Screen time description\n",
    "\n",
    "raw[[\"screen_time\", \"sleep_time\"]].describe()"
   ]
  },
  {
   "cell_type": "code",
   "execution_count": 7,
   "metadata": {},
   "outputs": [
    {
     "data": {
      "text/html": [
       "<div>\n",
       "<style scoped>\n",
       "    .dataframe tbody tr th:only-of-type {\n",
       "        vertical-align: middle;\n",
       "    }\n",
       "\n",
       "    .dataframe tbody tr th {\n",
       "        vertical-align: top;\n",
       "    }\n",
       "\n",
       "    .dataframe thead tr th {\n",
       "        text-align: left;\n",
       "    }\n",
       "\n",
       "    .dataframe thead tr:last-of-type th {\n",
       "        text-align: right;\n",
       "    }\n",
       "</style>\n",
       "<table border=\"1\" class=\"dataframe\">\n",
       "  <thead>\n",
       "    <tr>\n",
       "      <th></th>\n",
       "      <th colspan=\"4\" halign=\"left\">screen_time</th>\n",
       "    </tr>\n",
       "    <tr>\n",
       "      <th></th>\n",
       "      <th>count</th>\n",
       "      <th>unique</th>\n",
       "      <th>top</th>\n",
       "      <th>freq</th>\n",
       "    </tr>\n",
       "    <tr>\n",
       "      <th>sleep_time</th>\n",
       "      <th></th>\n",
       "      <th></th>\n",
       "      <th></th>\n",
       "      <th></th>\n",
       "    </tr>\n",
       "  </thead>\n",
       "  <tbody>\n",
       "    <tr>\n",
       "      <th>3 - 5 jam sehari</th>\n",
       "      <td>13</td>\n",
       "      <td>5</td>\n",
       "      <td>6 - 8 jam sehari</td>\n",
       "      <td>6</td>\n",
       "    </tr>\n",
       "    <tr>\n",
       "      <th>6 - 8 jam sehari</th>\n",
       "      <td>25</td>\n",
       "      <td>4</td>\n",
       "      <td>3 - 5 jam sehari</td>\n",
       "      <td>10</td>\n",
       "    </tr>\n",
       "  </tbody>\n",
       "</table>\n",
       "</div>"
      ],
      "text/plain": [
       "                 screen_time                              \n",
       "                       count unique               top freq\n",
       "sleep_time                                                \n",
       "3 - 5 jam sehari          13      5  6 - 8 jam sehari    6\n",
       "6 - 8 jam sehari          25      4  3 - 5 jam sehari   10"
      ]
     },
     "execution_count": 7,
     "metadata": {},
     "output_type": "execute_result"
    }
   ],
   "source": [
    "raw[[\"screen_time\", \"sleep_time\"]].groupby(\"sleep_time\").describe()"
   ]
  },
  {
   "cell_type": "code",
   "execution_count": 8,
   "metadata": {},
   "outputs": [
    {
     "data": {
      "text/html": [
       "<div>\n",
       "<style scoped>\n",
       "    .dataframe tbody tr th:only-of-type {\n",
       "        vertical-align: middle;\n",
       "    }\n",
       "\n",
       "    .dataframe tbody tr th {\n",
       "        vertical-align: top;\n",
       "    }\n",
       "\n",
       "    .dataframe thead tr th {\n",
       "        text-align: left;\n",
       "    }\n",
       "\n",
       "    .dataframe thead tr:last-of-type th {\n",
       "        text-align: right;\n",
       "    }\n",
       "</style>\n",
       "<table border=\"1\" class=\"dataframe\">\n",
       "  <thead>\n",
       "    <tr>\n",
       "      <th></th>\n",
       "      <th colspan=\"4\" halign=\"left\">sleep_time</th>\n",
       "    </tr>\n",
       "    <tr>\n",
       "      <th></th>\n",
       "      <th>count</th>\n",
       "      <th>unique</th>\n",
       "      <th>top</th>\n",
       "      <th>freq</th>\n",
       "    </tr>\n",
       "    <tr>\n",
       "      <th>occupation</th>\n",
       "      <th></th>\n",
       "      <th></th>\n",
       "      <th></th>\n",
       "      <th></th>\n",
       "    </tr>\n",
       "  </thead>\n",
       "  <tbody>\n",
       "    <tr>\n",
       "      <th>Mahasiswa</th>\n",
       "      <td>5</td>\n",
       "      <td>2</td>\n",
       "      <td>6 - 8 jam sehari</td>\n",
       "      <td>3</td>\n",
       "    </tr>\n",
       "    <tr>\n",
       "      <th>Media Massa</th>\n",
       "      <td>2</td>\n",
       "      <td>2</td>\n",
       "      <td>6 - 8 jam sehari</td>\n",
       "      <td>1</td>\n",
       "    </tr>\n",
       "    <tr>\n",
       "      <th>Otomasi industri</th>\n",
       "      <td>1</td>\n",
       "      <td>1</td>\n",
       "      <td>6 - 8 jam sehari</td>\n",
       "      <td>1</td>\n",
       "    </tr>\n",
       "    <tr>\n",
       "      <th>Pendidikan</th>\n",
       "      <td>3</td>\n",
       "      <td>2</td>\n",
       "      <td>6 - 8 jam sehari</td>\n",
       "      <td>2</td>\n",
       "    </tr>\n",
       "    <tr>\n",
       "      <th>Perbankan</th>\n",
       "      <td>3</td>\n",
       "      <td>1</td>\n",
       "      <td>6 - 8 jam sehari</td>\n",
       "      <td>3</td>\n",
       "    </tr>\n",
       "    <tr>\n",
       "      <th>Seni Kreatif dan Desain</th>\n",
       "      <td>4</td>\n",
       "      <td>2</td>\n",
       "      <td>3 - 5 jam sehari</td>\n",
       "      <td>3</td>\n",
       "    </tr>\n",
       "    <tr>\n",
       "      <th>Teknologi Informasi</th>\n",
       "      <td>19</td>\n",
       "      <td>2</td>\n",
       "      <td>6 - 8 jam sehari</td>\n",
       "      <td>13</td>\n",
       "    </tr>\n",
       "    <tr>\n",
       "      <th>Telekomunikasi</th>\n",
       "      <td>1</td>\n",
       "      <td>1</td>\n",
       "      <td>6 - 8 jam sehari</td>\n",
       "      <td>1</td>\n",
       "    </tr>\n",
       "  </tbody>\n",
       "</table>\n",
       "</div>"
      ],
      "text/plain": [
       "                        sleep_time                              \n",
       "                             count unique               top freq\n",
       "occupation                                                      \n",
       "Mahasiswa                        5      2  6 - 8 jam sehari    3\n",
       "Media Massa                      2      2  6 - 8 jam sehari    1\n",
       "Otomasi industri                 1      1  6 - 8 jam sehari    1\n",
       "Pendidikan                       3      2  6 - 8 jam sehari    2\n",
       "Perbankan                        3      1  6 - 8 jam sehari    3\n",
       "Seni Kreatif dan Desain          4      2  3 - 5 jam sehari    3\n",
       "Teknologi Informasi             19      2  6 - 8 jam sehari   13\n",
       "Telekomunikasi                   1      1  6 - 8 jam sehari    1"
      ]
     },
     "execution_count": 8,
     "metadata": {},
     "output_type": "execute_result"
    }
   ],
   "source": [
    "raw[[\"occupation\", \"sleep_time\"]].groupby(\"occupation\").describe()"
   ]
  },
  {
   "cell_type": "code",
   "execution_count": 9,
   "metadata": {},
   "outputs": [
    {
     "data": {
      "text/plain": [
       "count                                          38\n",
       "unique                                          2\n",
       "top       Tidak, saya bukan seorang perokok aktif\n",
       "freq                                           36\n",
       "Name: is_smoker, dtype: object"
      ]
     },
     "execution_count": 9,
     "metadata": {},
     "output_type": "execute_result"
    }
   ],
   "source": [
    "raw.is_smoker.describe()"
   ]
  },
  {
   "cell_type": "code",
   "execution_count": 10,
   "metadata": {},
   "outputs": [
    {
     "data": {
      "text/plain": [
       "count        38\n",
       "unique        2\n",
       "top       Tidak\n",
       "freq         36\n",
       "Name: is_alcoholics, dtype: object"
      ]
     },
     "execution_count": 10,
     "metadata": {},
     "output_type": "execute_result"
    }
   ],
   "source": [
    "raw.is_alcoholics.describe()"
   ]
  },
  {
   "cell_type": "code",
   "execution_count": 16,
   "metadata": {},
   "outputs": [
    {
     "data": {
      "text/html": [
       "<div>\n",
       "<style scoped>\n",
       "    .dataframe tbody tr th:only-of-type {\n",
       "        vertical-align: middle;\n",
       "    }\n",
       "\n",
       "    .dataframe tbody tr th {\n",
       "        vertical-align: top;\n",
       "    }\n",
       "\n",
       "    .dataframe thead th {\n",
       "        text-align: right;\n",
       "    }\n",
       "</style>\n",
       "<table border=\"1\" class=\"dataframe\">\n",
       "  <thead>\n",
       "    <tr style=\"text-align: right;\">\n",
       "      <th></th>\n",
       "      <th>timestamp</th>\n",
       "      <th>age</th>\n",
       "      <th>sex</th>\n",
       "      <th>occupation</th>\n",
       "      <th>must_use_phone</th>\n",
       "      <th>screen_time</th>\n",
       "      <th>sleep_time</th>\n",
       "      <th>is_smoker</th>\n",
       "      <th>is_alcoholics</th>\n",
       "      <th>is_consuming_special_medicine</th>\n",
       "      <th>is_screen_time_distract_sleep</th>\n",
       "      <th>difference_before_pandemic</th>\n",
       "      <th>occupation_Mahasiswa</th>\n",
       "      <th>occupation_Media Massa</th>\n",
       "      <th>occupation_Otomasi industri</th>\n",
       "      <th>occupation_Pendidikan</th>\n",
       "      <th>occupation_Perbankan</th>\n",
       "      <th>occupation_Seni Kreatif dan Desain</th>\n",
       "      <th>occupation_Teknologi Informasi</th>\n",
       "      <th>occupation_Telekomunikasi</th>\n",
       "    </tr>\n",
       "  </thead>\n",
       "  <tbody>\n",
       "    <tr>\n",
       "      <th>0</th>\n",
       "      <td>10/31/2020 9:29:02</td>\n",
       "      <td>1</td>\n",
       "      <td>1</td>\n",
       "      <td>Seni Kreatif dan Desain</td>\n",
       "      <td>0</td>\n",
       "      <td>2</td>\n",
       "      <td>1</td>\n",
       "      <td>0</td>\n",
       "      <td>0</td>\n",
       "      <td>1</td>\n",
       "      <td>2</td>\n",
       "      <td>2.0</td>\n",
       "      <td>0</td>\n",
       "      <td>0</td>\n",
       "      <td>0</td>\n",
       "      <td>0</td>\n",
       "      <td>0</td>\n",
       "      <td>1</td>\n",
       "      <td>0</td>\n",
       "      <td>0</td>\n",
       "    </tr>\n",
       "    <tr>\n",
       "      <th>1</th>\n",
       "      <td>10/31/2020 9:30:06</td>\n",
       "      <td>1</td>\n",
       "      <td>1</td>\n",
       "      <td>Seni Kreatif dan Desain</td>\n",
       "      <td>1</td>\n",
       "      <td>2</td>\n",
       "      <td>1</td>\n",
       "      <td>0</td>\n",
       "      <td>0</td>\n",
       "      <td>0</td>\n",
       "      <td>2</td>\n",
       "      <td>2.0</td>\n",
       "      <td>0</td>\n",
       "      <td>0</td>\n",
       "      <td>0</td>\n",
       "      <td>0</td>\n",
       "      <td>0</td>\n",
       "      <td>1</td>\n",
       "      <td>0</td>\n",
       "      <td>0</td>\n",
       "    </tr>\n",
       "    <tr>\n",
       "      <th>2</th>\n",
       "      <td>10/31/2020 9:31:32</td>\n",
       "      <td>1</td>\n",
       "      <td>1</td>\n",
       "      <td>Teknologi Informasi</td>\n",
       "      <td>0</td>\n",
       "      <td>2</td>\n",
       "      <td>2</td>\n",
       "      <td>0</td>\n",
       "      <td>0</td>\n",
       "      <td>0</td>\n",
       "      <td>1</td>\n",
       "      <td>2.0</td>\n",
       "      <td>0</td>\n",
       "      <td>0</td>\n",
       "      <td>0</td>\n",
       "      <td>0</td>\n",
       "      <td>0</td>\n",
       "      <td>0</td>\n",
       "      <td>1</td>\n",
       "      <td>0</td>\n",
       "    </tr>\n",
       "    <tr>\n",
       "      <th>3</th>\n",
       "      <td>10/31/2020 9:37:07</td>\n",
       "      <td>2</td>\n",
       "      <td>1</td>\n",
       "      <td>Teknologi Informasi</td>\n",
       "      <td>1</td>\n",
       "      <td>4</td>\n",
       "      <td>2</td>\n",
       "      <td>0</td>\n",
       "      <td>0</td>\n",
       "      <td>0</td>\n",
       "      <td>1</td>\n",
       "      <td>2.0</td>\n",
       "      <td>0</td>\n",
       "      <td>0</td>\n",
       "      <td>0</td>\n",
       "      <td>0</td>\n",
       "      <td>0</td>\n",
       "      <td>0</td>\n",
       "      <td>1</td>\n",
       "      <td>0</td>\n",
       "    </tr>\n",
       "    <tr>\n",
       "      <th>4</th>\n",
       "      <td>10/31/2020 9:38:10</td>\n",
       "      <td>1</td>\n",
       "      <td>1</td>\n",
       "      <td>Teknologi Informasi</td>\n",
       "      <td>0</td>\n",
       "      <td>3</td>\n",
       "      <td>2</td>\n",
       "      <td>0</td>\n",
       "      <td>0</td>\n",
       "      <td>0</td>\n",
       "      <td>1</td>\n",
       "      <td>2.0</td>\n",
       "      <td>0</td>\n",
       "      <td>0</td>\n",
       "      <td>0</td>\n",
       "      <td>0</td>\n",
       "      <td>0</td>\n",
       "      <td>0</td>\n",
       "      <td>1</td>\n",
       "      <td>0</td>\n",
       "    </tr>\n",
       "  </tbody>\n",
       "</table>\n",
       "</div>"
      ],
      "text/plain": [
       "            timestamp  age  sex               occupation  must_use_phone  \\\n",
       "0  10/31/2020 9:29:02    1    1  Seni Kreatif dan Desain               0   \n",
       "1  10/31/2020 9:30:06    1    1  Seni Kreatif dan Desain               1   \n",
       "2  10/31/2020 9:31:32    1    1      Teknologi Informasi               0   \n",
       "3  10/31/2020 9:37:07    2    1      Teknologi Informasi               1   \n",
       "4  10/31/2020 9:38:10    1    1      Teknologi Informasi               0   \n",
       "\n",
       "   screen_time  sleep_time  is_smoker  is_alcoholics  \\\n",
       "0            2           1          0              0   \n",
       "1            2           1          0              0   \n",
       "2            2           2          0              0   \n",
       "3            4           2          0              0   \n",
       "4            3           2          0              0   \n",
       "\n",
       "   is_consuming_special_medicine  is_screen_time_distract_sleep  \\\n",
       "0                              1                              2   \n",
       "1                              0                              2   \n",
       "2                              0                              1   \n",
       "3                              0                              1   \n",
       "4                              0                              1   \n",
       "\n",
       "   difference_before_pandemic  occupation_Mahasiswa  occupation_Media Massa  \\\n",
       "0                         2.0                     0                       0   \n",
       "1                         2.0                     0                       0   \n",
       "2                         2.0                     0                       0   \n",
       "3                         2.0                     0                       0   \n",
       "4                         2.0                     0                       0   \n",
       "\n",
       "   occupation_Otomasi industri  occupation_Pendidikan  occupation_Perbankan  \\\n",
       "0                            0                      0                     0   \n",
       "1                            0                      0                     0   \n",
       "2                            0                      0                     0   \n",
       "3                            0                      0                     0   \n",
       "4                            0                      0                     0   \n",
       "\n",
       "   occupation_Seni Kreatif dan Desain  occupation_Teknologi Informasi  \\\n",
       "0                                   1                               0   \n",
       "1                                   1                               0   \n",
       "2                                   0                               1   \n",
       "3                                   0                               1   \n",
       "4                                   0                               1   \n",
       "\n",
       "   occupation_Telekomunikasi  \n",
       "0                          0  \n",
       "1                          0  \n",
       "2                          0  \n",
       "3                          0  \n",
       "4                          0  "
      ]
     },
     "execution_count": 16,
     "metadata": {},
     "output_type": "execute_result"
    }
   ],
   "source": [
    "encoded = pd.read_csv(\"dataset/encoded.csv\")\n",
    "encoded.head()"
   ]
  },
  {
   "cell_type": "code",
   "execution_count": 55,
   "metadata": {},
   "outputs": [
    {
     "data": {
      "text/html": [
       "<div>\n",
       "<style scoped>\n",
       "    .dataframe tbody tr th:only-of-type {\n",
       "        vertical-align: middle;\n",
       "    }\n",
       "\n",
       "    .dataframe tbody tr th {\n",
       "        vertical-align: top;\n",
       "    }\n",
       "\n",
       "    .dataframe thead th {\n",
       "        text-align: right;\n",
       "    }\n",
       "</style>\n",
       "<table border=\"1\" class=\"dataframe\">\n",
       "  <thead>\n",
       "    <tr style=\"text-align: right;\">\n",
       "      <th>sleep_time</th>\n",
       "      <th>3 - 5 jam sehari</th>\n",
       "      <th>6 - 8 jam sehari</th>\n",
       "    </tr>\n",
       "    <tr>\n",
       "      <th>age</th>\n",
       "      <th></th>\n",
       "      <th></th>\n",
       "    </tr>\n",
       "  </thead>\n",
       "  <tbody>\n",
       "    <tr>\n",
       "      <th>15-20</th>\n",
       "      <td>7</td>\n",
       "      <td>9</td>\n",
       "    </tr>\n",
       "    <tr>\n",
       "      <th>20-25</th>\n",
       "      <td>5</td>\n",
       "      <td>14</td>\n",
       "    </tr>\n",
       "    <tr>\n",
       "      <th>25-30</th>\n",
       "      <td>0</td>\n",
       "      <td>2</td>\n",
       "    </tr>\n",
       "    <tr>\n",
       "      <th>&gt;35</th>\n",
       "      <td>1</td>\n",
       "      <td>0</td>\n",
       "    </tr>\n",
       "  </tbody>\n",
       "</table>\n",
       "</div>"
      ],
      "text/plain": [
       "sleep_time  3 - 5 jam sehari  6 - 8 jam sehari\n",
       "age                                           \n",
       "15-20                      7                 9\n",
       "20-25                      5                14\n",
       "25-30                      0                 2\n",
       ">35                        1                 0"
      ]
     },
     "execution_count": 55,
     "metadata": {},
     "output_type": "execute_result"
    }
   ],
   "source": [
    "# sleep_time_with_age\n",
    "\n",
    "sleep_time_with_age = pd.crosstab([raw.age], [raw.sleep_time])\n",
    "sleep_time_with_age"
   ]
  },
  {
   "cell_type": "code",
   "execution_count": 56,
   "metadata": {},
   "outputs": [
    {
     "name": "stdout",
     "output_type": "stream",
     "text": [
      "4.136153846153847\n",
      "0.24713233982354563\n",
      "3\n",
      "[[ 5.47368421 10.52631579]\n",
      " [ 6.5        12.5       ]\n",
      " [ 0.68421053  1.31578947]\n",
      " [ 0.34210526  0.65789474]]\n"
     ]
    }
   ],
   "source": [
    "# Chi-square test of independence.\n",
    "c, p, dof, expected = chi2_contingency(sleep_time_with_age)\n",
    "print(c)\n",
    "print(p)\n",
    "print(dof)\n",
    "print(expected)"
   ]
  },
  {
   "cell_type": "code",
   "execution_count": 60,
   "metadata": {},
   "outputs": [
    {
     "data": {
      "text/html": [
       "<div>\n",
       "<style scoped>\n",
       "    .dataframe tbody tr th:only-of-type {\n",
       "        vertical-align: middle;\n",
       "    }\n",
       "\n",
       "    .dataframe tbody tr th {\n",
       "        vertical-align: top;\n",
       "    }\n",
       "\n",
       "    .dataframe thead th {\n",
       "        text-align: right;\n",
       "    }\n",
       "</style>\n",
       "<table border=\"1\" class=\"dataframe\">\n",
       "  <thead>\n",
       "    <tr style=\"text-align: right;\">\n",
       "      <th>sleep_time</th>\n",
       "      <th>3 - 5 jam sehari</th>\n",
       "      <th>6 - 8 jam sehari</th>\n",
       "    </tr>\n",
       "    <tr>\n",
       "      <th>screen_time</th>\n",
       "      <th></th>\n",
       "      <th></th>\n",
       "    </tr>\n",
       "  </thead>\n",
       "  <tbody>\n",
       "    <tr>\n",
       "      <th>1 - 2 jam sehari</th>\n",
       "      <td>1</td>\n",
       "      <td>2</td>\n",
       "    </tr>\n",
       "    <tr>\n",
       "      <th>3 - 5 jam sehari</th>\n",
       "      <td>4</td>\n",
       "      <td>10</td>\n",
       "    </tr>\n",
       "    <tr>\n",
       "      <th>6 - 8 jam sehari</th>\n",
       "      <td>6</td>\n",
       "      <td>8</td>\n",
       "    </tr>\n",
       "    <tr>\n",
       "      <th>Kurang dari 1 jam sehari</th>\n",
       "      <td>1</td>\n",
       "      <td>0</td>\n",
       "    </tr>\n",
       "    <tr>\n",
       "      <th>Lebih dari 9 jam sehari</th>\n",
       "      <td>1</td>\n",
       "      <td>5</td>\n",
       "    </tr>\n",
       "  </tbody>\n",
       "</table>\n",
       "</div>"
      ],
      "text/plain": [
       "sleep_time                3 - 5 jam sehari  6 - 8 jam sehari\n",
       "screen_time                                                 \n",
       "1 - 2 jam sehari                         1                 2\n",
       "3 - 5 jam sehari                         4                10\n",
       "6 - 8 jam sehari                         6                 8\n",
       "Kurang dari 1 jam sehari                 1                 0\n",
       "Lebih dari 9 jam sehari                  1                 5"
      ]
     },
     "execution_count": 60,
     "metadata": {},
     "output_type": "execute_result"
    }
   ],
   "source": [
    "# sleep_time_with_screen_time\n",
    "\n",
    "sleep_time_with_screen = pd.crosstab([raw.screen_time], [raw.sleep_time])\n",
    "sleep_time_with_screen"
   ]
  },
  {
   "cell_type": "code",
   "execution_count": 62,
   "metadata": {},
   "outputs": [
    {
     "name": "stdout",
     "output_type": "stream",
     "text": [
      "3.4074725274725277\n",
      "0.49208606648283415\n",
      "4\n",
      "[[1.02631579 1.97368421]\n",
      " [4.78947368 9.21052632]\n",
      " [4.78947368 9.21052632]\n",
      " [0.34210526 0.65789474]\n",
      " [2.05263158 3.94736842]]\n"
     ]
    }
   ],
   "source": [
    "c, p, dof, expected = chi2_contingency(sleep_time_with_screen)\n",
    "print(c)\n",
    "print(p)\n",
    "print(dof)\n",
    "print(expected)"
   ]
  },
  {
   "cell_type": "code",
   "execution_count": 65,
   "metadata": {},
   "outputs": [
    {
     "data": {
      "text/html": [
       "<div>\n",
       "<style scoped>\n",
       "    .dataframe tbody tr th:only-of-type {\n",
       "        vertical-align: middle;\n",
       "    }\n",
       "\n",
       "    .dataframe tbody tr th {\n",
       "        vertical-align: top;\n",
       "    }\n",
       "\n",
       "    .dataframe thead th {\n",
       "        text-align: right;\n",
       "    }\n",
       "</style>\n",
       "<table border=\"1\" class=\"dataframe\">\n",
       "  <thead>\n",
       "    <tr style=\"text-align: right;\">\n",
       "      <th>sleep_time</th>\n",
       "      <th>3 - 5 jam sehari</th>\n",
       "      <th>6 - 8 jam sehari</th>\n",
       "    </tr>\n",
       "    <tr>\n",
       "      <th>must_use_phone</th>\n",
       "      <th></th>\n",
       "      <th></th>\n",
       "    </tr>\n",
       "  </thead>\n",
       "  <tbody>\n",
       "    <tr>\n",
       "      <th>Tidak</th>\n",
       "      <td>4</td>\n",
       "      <td>13</td>\n",
       "    </tr>\n",
       "    <tr>\n",
       "      <th>Ya</th>\n",
       "      <td>9</td>\n",
       "      <td>12</td>\n",
       "    </tr>\n",
       "  </tbody>\n",
       "</table>\n",
       "</div>"
      ],
      "text/plain": [
       "sleep_time      3 - 5 jam sehari  6 - 8 jam sehari\n",
       "must_use_phone                                    \n",
       "Tidak                          4                13\n",
       "Ya                             9                12"
      ]
     },
     "execution_count": 65,
     "metadata": {},
     "output_type": "execute_result"
    }
   ],
   "source": [
    "# sleep_time_with_screen_time\n",
    "\n",
    "sleep_time_with_forced_to_use_phone = pd.crosstab([raw.must_use_phone], [raw.sleep_time])\n",
    "sleep_time_with_forced_to_use_phone"
   ]
  },
  {
   "cell_type": "code",
   "execution_count": 67,
   "metadata": {},
   "outputs": [
    {
     "name": "stdout",
     "output_type": "stream",
     "text": [
      "0.8187890540831718\n",
      "0.3655344559795839\n",
      "1\n",
      "[[ 5.81578947 11.18421053]\n",
      " [ 7.18421053 13.81578947]]\n"
     ]
    }
   ],
   "source": [
    "c, p, dof, expected = chi2_contingency(sleep_time_with_forced_to_use_phone)\n",
    "print(c)\n",
    "print(p)\n",
    "print(dof)\n",
    "print(expected)"
   ]
  },
  {
   "cell_type": "code",
   "execution_count": 69,
   "metadata": {},
   "outputs": [
    {
     "data": {
      "text/html": [
       "<div>\n",
       "<style scoped>\n",
       "    .dataframe tbody tr th:only-of-type {\n",
       "        vertical-align: middle;\n",
       "    }\n",
       "\n",
       "    .dataframe tbody tr th {\n",
       "        vertical-align: top;\n",
       "    }\n",
       "\n",
       "    .dataframe thead th {\n",
       "        text-align: right;\n",
       "    }\n",
       "</style>\n",
       "<table border=\"1\" class=\"dataframe\">\n",
       "  <thead>\n",
       "    <tr style=\"text-align: right;\">\n",
       "      <th>sleep_time</th>\n",
       "      <th>3 - 5 jam sehari</th>\n",
       "      <th>6 - 8 jam sehari</th>\n",
       "    </tr>\n",
       "    <tr>\n",
       "      <th>sex</th>\n",
       "      <th></th>\n",
       "      <th></th>\n",
       "    </tr>\n",
       "  </thead>\n",
       "  <tbody>\n",
       "    <tr>\n",
       "      <th>Pria</th>\n",
       "      <td>9</td>\n",
       "      <td>18</td>\n",
       "    </tr>\n",
       "    <tr>\n",
       "      <th>Wanita</th>\n",
       "      <td>4</td>\n",
       "      <td>7</td>\n",
       "    </tr>\n",
       "  </tbody>\n",
       "</table>\n",
       "</div>"
      ],
      "text/plain": [
       "sleep_time  3 - 5 jam sehari  6 - 8 jam sehari\n",
       "sex                                           \n",
       "Pria                       9                18\n",
       "Wanita                     4                 7"
      ]
     },
     "execution_count": 69,
     "metadata": {},
     "output_type": "execute_result"
    }
   ],
   "source": [
    "# sleep_time_with_sex\n",
    "\n",
    "sleep_time_with_sex = pd.crosstab([raw.sex], [raw.sleep_time])\n",
    "sleep_time_with_sex"
   ]
  },
  {
   "cell_type": "code",
   "execution_count": 70,
   "metadata": {},
   "outputs": [
    {
     "name": "stdout",
     "output_type": "stream",
     "text": [
      "0.03936803936803942\n",
      "0.8427213146597374\n",
      "1\n",
      "[[ 9.23684211 17.76315789]\n",
      " [ 3.76315789  7.23684211]]\n"
     ]
    }
   ],
   "source": [
    "c, p, dof, expected = chi2_contingency(sleep_time_with_sex)\n",
    "print(c)\n",
    "print(p)\n",
    "print(dof)\n",
    "print(expected)"
   ]
  }
 ],
 "metadata": {
  "kernelspec": {
   "display_name": "Python 3",
   "language": "python",
   "name": "python3"
  },
  "language_info": {
   "codemirror_mode": {
    "name": "ipython",
    "version": 3
   },
   "file_extension": ".py",
   "mimetype": "text/x-python",
   "name": "python",
   "nbconvert_exporter": "python",
   "pygments_lexer": "ipython3",
   "version": "3.8.5"
  }
 },
 "nbformat": 4,
 "nbformat_minor": 4
}
