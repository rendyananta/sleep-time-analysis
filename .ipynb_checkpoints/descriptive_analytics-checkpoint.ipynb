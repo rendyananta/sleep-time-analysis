{
 "cells": [
  {
   "cell_type": "code",
   "execution_count": 71,
   "metadata": {},
   "outputs": [],
   "source": [
    "import pandas as pd\n",
    "import seaborn as sns\n",
    "from scipy.stats import chi2_contingency"
   ]
  },
  {
   "cell_type": "code",
   "execution_count": 72,
   "metadata": {},
   "outputs": [
    {
     "data": {
      "text/plain": [
       "(54, 12)"
      ]
     },
     "execution_count": 72,
     "metadata": {},
     "output_type": "execute_result"
    }
   ],
   "source": [
    "#1 Encode datasets\n",
    "\n",
    "raw = pd.read_csv(\"dataset/adjusted.csv\")\n",
    "raw.shape"
   ]
  },
  {
   "cell_type": "code",
   "execution_count": 73,
   "metadata": {},
   "outputs": [
    {
     "data": {
      "text/plain": [
       "Index(['timestamp', 'age', 'sex', 'occupation', 'must_use_phone',\n",
       "       'screen_time', 'sleep_time', 'is_smoker', 'is_alcoholics',\n",
       "       'is_consuming_special_medicine', 'is_screen_time_distract_sleep',\n",
       "       'difference_before_pandemic'],\n",
       "      dtype='object')"
      ]
     },
     "execution_count": 73,
     "metadata": {},
     "output_type": "execute_result"
    }
   ],
   "source": [
    "raw.columns"
   ]
  },
  {
   "cell_type": "code",
   "execution_count": 74,
   "metadata": {},
   "outputs": [
    {
     "data": {
      "text/html": [
       "<div>\n",
       "<style scoped>\n",
       "    .dataframe tbody tr th:only-of-type {\n",
       "        vertical-align: middle;\n",
       "    }\n",
       "\n",
       "    .dataframe tbody tr th {\n",
       "        vertical-align: top;\n",
       "    }\n",
       "\n",
       "    .dataframe thead th {\n",
       "        text-align: right;\n",
       "    }\n",
       "</style>\n",
       "<table border=\"1\" class=\"dataframe\">\n",
       "  <thead>\n",
       "    <tr style=\"text-align: right;\">\n",
       "      <th></th>\n",
       "      <th>age</th>\n",
       "    </tr>\n",
       "    <tr>\n",
       "      <th>sex</th>\n",
       "      <th></th>\n",
       "    </tr>\n",
       "  </thead>\n",
       "  <tbody>\n",
       "    <tr>\n",
       "      <th>Pria</th>\n",
       "      <td>38</td>\n",
       "    </tr>\n",
       "    <tr>\n",
       "      <th>Wanita</th>\n",
       "      <td>16</td>\n",
       "    </tr>\n",
       "  </tbody>\n",
       "</table>\n",
       "</div>"
      ],
      "text/plain": [
       "        age\n",
       "sex        \n",
       "Pria     38\n",
       "Wanita   16"
      ]
     },
     "execution_count": 74,
     "metadata": {},
     "output_type": "execute_result"
    }
   ],
   "source": [
    "# Demography of the respondents\n",
    "\n",
    "raw[[\"sex\", \"age\"]].groupby(\"sex\").count()"
   ]
  },
  {
   "cell_type": "code",
   "execution_count": 75,
   "metadata": {
    "scrolled": true
   },
   "outputs": [
    {
     "data": {
      "text/html": [
       "<div>\n",
       "<style scoped>\n",
       "    .dataframe tbody tr th:only-of-type {\n",
       "        vertical-align: middle;\n",
       "    }\n",
       "\n",
       "    .dataframe tbody tr th {\n",
       "        vertical-align: top;\n",
       "    }\n",
       "\n",
       "    .dataframe thead th {\n",
       "        text-align: right;\n",
       "    }\n",
       "</style>\n",
       "<table border=\"1\" class=\"dataframe\">\n",
       "  <thead>\n",
       "    <tr style=\"text-align: right;\">\n",
       "      <th></th>\n",
       "      <th>screen_time</th>\n",
       "      <th>sleep_time</th>\n",
       "    </tr>\n",
       "  </thead>\n",
       "  <tbody>\n",
       "    <tr>\n",
       "      <th>count</th>\n",
       "      <td>54</td>\n",
       "      <td>54</td>\n",
       "    </tr>\n",
       "    <tr>\n",
       "      <th>unique</th>\n",
       "      <td>5</td>\n",
       "      <td>3</td>\n",
       "    </tr>\n",
       "    <tr>\n",
       "      <th>top</th>\n",
       "      <td>3 - 5 jam sehari</td>\n",
       "      <td>6 - 8 jam sehari</td>\n",
       "    </tr>\n",
       "    <tr>\n",
       "      <th>freq</th>\n",
       "      <td>20</td>\n",
       "      <td>34</td>\n",
       "    </tr>\n",
       "  </tbody>\n",
       "</table>\n",
       "</div>"
      ],
      "text/plain": [
       "             screen_time        sleep_time\n",
       "count                 54                54\n",
       "unique                 5                 3\n",
       "top     3 - 5 jam sehari  6 - 8 jam sehari\n",
       "freq                  20                34"
      ]
     },
     "execution_count": 75,
     "metadata": {},
     "output_type": "execute_result"
    }
   ],
   "source": [
    "# Screen time description\n",
    "\n",
    "raw[[\"screen_time\", \"sleep_time\"]].describe()"
   ]
  },
  {
   "cell_type": "code",
   "execution_count": 76,
   "metadata": {},
   "outputs": [
    {
     "data": {
      "text/html": [
       "<div>\n",
       "<style scoped>\n",
       "    .dataframe tbody tr th:only-of-type {\n",
       "        vertical-align: middle;\n",
       "    }\n",
       "\n",
       "    .dataframe tbody tr th {\n",
       "        vertical-align: top;\n",
       "    }\n",
       "\n",
       "    .dataframe thead tr th {\n",
       "        text-align: left;\n",
       "    }\n",
       "\n",
       "    .dataframe thead tr:last-of-type th {\n",
       "        text-align: right;\n",
       "    }\n",
       "</style>\n",
       "<table border=\"1\" class=\"dataframe\">\n",
       "  <thead>\n",
       "    <tr>\n",
       "      <th></th>\n",
       "      <th colspan=\"4\" halign=\"left\">screen_time</th>\n",
       "    </tr>\n",
       "    <tr>\n",
       "      <th></th>\n",
       "      <th>count</th>\n",
       "      <th>unique</th>\n",
       "      <th>top</th>\n",
       "      <th>freq</th>\n",
       "    </tr>\n",
       "    <tr>\n",
       "      <th>sleep_time</th>\n",
       "      <th></th>\n",
       "      <th></th>\n",
       "      <th></th>\n",
       "      <th></th>\n",
       "    </tr>\n",
       "  </thead>\n",
       "  <tbody>\n",
       "    <tr>\n",
       "      <th>3 - 5 jam sehari</th>\n",
       "      <td>19</td>\n",
       "      <td>5</td>\n",
       "      <td>6 - 8 jam sehari</td>\n",
       "      <td>9</td>\n",
       "    </tr>\n",
       "    <tr>\n",
       "      <th>6 - 8 jam sehari</th>\n",
       "      <td>34</td>\n",
       "      <td>4</td>\n",
       "      <td>3 - 5 jam sehari</td>\n",
       "      <td>13</td>\n",
       "    </tr>\n",
       "    <tr>\n",
       "      <th>Kurang dari 2 jam sehari</th>\n",
       "      <td>1</td>\n",
       "      <td>1</td>\n",
       "      <td>Lebih dari 9 jam sehari</td>\n",
       "      <td>1</td>\n",
       "    </tr>\n",
       "  </tbody>\n",
       "</table>\n",
       "</div>"
      ],
      "text/plain": [
       "                         screen_time                                     \n",
       "                               count unique                      top freq\n",
       "sleep_time                                                               \n",
       "3 - 5 jam sehari                  19      5         6 - 8 jam sehari    9\n",
       "6 - 8 jam sehari                  34      4         3 - 5 jam sehari   13\n",
       "Kurang dari 2 jam sehari           1      1  Lebih dari 9 jam sehari    1"
      ]
     },
     "execution_count": 76,
     "metadata": {},
     "output_type": "execute_result"
    }
   ],
   "source": [
    "raw[[\"screen_time\", \"sleep_time\"]].groupby(\"sleep_time\").describe()"
   ]
  },
  {
   "cell_type": "code",
   "execution_count": 77,
   "metadata": {},
   "outputs": [
    {
     "data": {
      "text/html": [
       "<div>\n",
       "<style scoped>\n",
       "    .dataframe tbody tr th:only-of-type {\n",
       "        vertical-align: middle;\n",
       "    }\n",
       "\n",
       "    .dataframe tbody tr th {\n",
       "        vertical-align: top;\n",
       "    }\n",
       "\n",
       "    .dataframe thead tr th {\n",
       "        text-align: left;\n",
       "    }\n",
       "\n",
       "    .dataframe thead tr:last-of-type th {\n",
       "        text-align: right;\n",
       "    }\n",
       "</style>\n",
       "<table border=\"1\" class=\"dataframe\">\n",
       "  <thead>\n",
       "    <tr>\n",
       "      <th></th>\n",
       "      <th colspan=\"4\" halign=\"left\">sleep_time</th>\n",
       "    </tr>\n",
       "    <tr>\n",
       "      <th></th>\n",
       "      <th>count</th>\n",
       "      <th>unique</th>\n",
       "      <th>top</th>\n",
       "      <th>freq</th>\n",
       "    </tr>\n",
       "    <tr>\n",
       "      <th>occupation</th>\n",
       "      <th></th>\n",
       "      <th></th>\n",
       "      <th></th>\n",
       "      <th></th>\n",
       "    </tr>\n",
       "  </thead>\n",
       "  <tbody>\n",
       "    <tr>\n",
       "      <th>Mahasiswa</th>\n",
       "      <td>7</td>\n",
       "      <td>2</td>\n",
       "      <td>6 - 8 jam sehari</td>\n",
       "      <td>5</td>\n",
       "    </tr>\n",
       "    <tr>\n",
       "      <th>Media Massa</th>\n",
       "      <td>2</td>\n",
       "      <td>2</td>\n",
       "      <td>3 - 5 jam sehari</td>\n",
       "      <td>1</td>\n",
       "    </tr>\n",
       "    <tr>\n",
       "      <th>Otomasi industri</th>\n",
       "      <td>1</td>\n",
       "      <td>1</td>\n",
       "      <td>6 - 8 jam sehari</td>\n",
       "      <td>1</td>\n",
       "    </tr>\n",
       "    <tr>\n",
       "      <th>Pendidikan</th>\n",
       "      <td>8</td>\n",
       "      <td>3</td>\n",
       "      <td>3 - 5 jam sehari</td>\n",
       "      <td>4</td>\n",
       "    </tr>\n",
       "    <tr>\n",
       "      <th>Perbankan</th>\n",
       "      <td>3</td>\n",
       "      <td>1</td>\n",
       "      <td>6 - 8 jam sehari</td>\n",
       "      <td>3</td>\n",
       "    </tr>\n",
       "    <tr>\n",
       "      <th>Seni Kreatif dan Desain</th>\n",
       "      <td>6</td>\n",
       "      <td>2</td>\n",
       "      <td>3 - 5 jam sehari</td>\n",
       "      <td>3</td>\n",
       "    </tr>\n",
       "    <tr>\n",
       "      <th>Sosial</th>\n",
       "      <td>1</td>\n",
       "      <td>1</td>\n",
       "      <td>3 - 5 jam sehari</td>\n",
       "      <td>1</td>\n",
       "    </tr>\n",
       "    <tr>\n",
       "      <th>Teknologi Informasi</th>\n",
       "      <td>25</td>\n",
       "      <td>2</td>\n",
       "      <td>6 - 8 jam sehari</td>\n",
       "      <td>17</td>\n",
       "    </tr>\n",
       "    <tr>\n",
       "      <th>Telekomunikasi</th>\n",
       "      <td>1</td>\n",
       "      <td>1</td>\n",
       "      <td>6 - 8 jam sehari</td>\n",
       "      <td>1</td>\n",
       "    </tr>\n",
       "  </tbody>\n",
       "</table>\n",
       "</div>"
      ],
      "text/plain": [
       "                        sleep_time                              \n",
       "                             count unique               top freq\n",
       "occupation                                                      \n",
       "Mahasiswa                        7      2  6 - 8 jam sehari    5\n",
       "Media Massa                      2      2  3 - 5 jam sehari    1\n",
       "Otomasi industri                 1      1  6 - 8 jam sehari    1\n",
       "Pendidikan                       8      3  3 - 5 jam sehari    4\n",
       "Perbankan                        3      1  6 - 8 jam sehari    3\n",
       "Seni Kreatif dan Desain          6      2  3 - 5 jam sehari    3\n",
       "Sosial                           1      1  3 - 5 jam sehari    1\n",
       "Teknologi Informasi             25      2  6 - 8 jam sehari   17\n",
       "Telekomunikasi                   1      1  6 - 8 jam sehari    1"
      ]
     },
     "execution_count": 77,
     "metadata": {},
     "output_type": "execute_result"
    }
   ],
   "source": [
    "raw[[\"occupation\", \"sleep_time\"]].groupby(\"occupation\").describe()"
   ]
  },
  {
   "cell_type": "code",
   "execution_count": 78,
   "metadata": {},
   "outputs": [
    {
     "data": {
      "text/plain": [
       "count                                          54\n",
       "unique                                          2\n",
       "top       Tidak, saya bukan seorang perokok aktif\n",
       "freq                                           52\n",
       "Name: is_smoker, dtype: object"
      ]
     },
     "execution_count": 78,
     "metadata": {},
     "output_type": "execute_result"
    }
   ],
   "source": [
    "raw.is_smoker.describe()"
   ]
  },
  {
   "cell_type": "code",
   "execution_count": 79,
   "metadata": {},
   "outputs": [
    {
     "data": {
      "text/plain": [
       "count        54\n",
       "unique        2\n",
       "top       Tidak\n",
       "freq         52\n",
       "Name: is_alcoholics, dtype: object"
      ]
     },
     "execution_count": 79,
     "metadata": {},
     "output_type": "execute_result"
    }
   ],
   "source": [
    "raw.is_alcoholics.describe()"
   ]
  },
  {
   "cell_type": "code",
   "execution_count": 80,
   "metadata": {},
   "outputs": [
    {
     "data": {
      "text/html": [
       "<div>\n",
       "<style scoped>\n",
       "    .dataframe tbody tr th:only-of-type {\n",
       "        vertical-align: middle;\n",
       "    }\n",
       "\n",
       "    .dataframe tbody tr th {\n",
       "        vertical-align: top;\n",
       "    }\n",
       "\n",
       "    .dataframe thead th {\n",
       "        text-align: right;\n",
       "    }\n",
       "</style>\n",
       "<table border=\"1\" class=\"dataframe\">\n",
       "  <thead>\n",
       "    <tr style=\"text-align: right;\">\n",
       "      <th></th>\n",
       "      <th>timestamp</th>\n",
       "      <th>age</th>\n",
       "      <th>sex</th>\n",
       "      <th>occupation</th>\n",
       "      <th>must_use_phone</th>\n",
       "      <th>screen_time</th>\n",
       "      <th>sleep_time</th>\n",
       "      <th>is_smoker</th>\n",
       "      <th>is_alcoholics</th>\n",
       "      <th>is_consuming_special_medicine</th>\n",
       "      <th>...</th>\n",
       "      <th>difference_before_pandemic</th>\n",
       "      <th>occupation_Mahasiswa</th>\n",
       "      <th>occupation_Media Massa</th>\n",
       "      <th>occupation_Otomasi industri</th>\n",
       "      <th>occupation_Pendidikan</th>\n",
       "      <th>occupation_Perbankan</th>\n",
       "      <th>occupation_Seni Kreatif dan Desain</th>\n",
       "      <th>occupation_Sosial</th>\n",
       "      <th>occupation_Teknologi Informasi</th>\n",
       "      <th>occupation_Telekomunikasi</th>\n",
       "    </tr>\n",
       "  </thead>\n",
       "  <tbody>\n",
       "    <tr>\n",
       "      <th>0</th>\n",
       "      <td>10/31/2020 9:29:02</td>\n",
       "      <td>1</td>\n",
       "      <td>1</td>\n",
       "      <td>Seni Kreatif dan Desain</td>\n",
       "      <td>0</td>\n",
       "      <td>2</td>\n",
       "      <td>1</td>\n",
       "      <td>0</td>\n",
       "      <td>0</td>\n",
       "      <td>1</td>\n",
       "      <td>...</td>\n",
       "      <td>2.0</td>\n",
       "      <td>0</td>\n",
       "      <td>0</td>\n",
       "      <td>0</td>\n",
       "      <td>0</td>\n",
       "      <td>0</td>\n",
       "      <td>1</td>\n",
       "      <td>0</td>\n",
       "      <td>0</td>\n",
       "      <td>0</td>\n",
       "    </tr>\n",
       "    <tr>\n",
       "      <th>1</th>\n",
       "      <td>10/31/2020 9:30:06</td>\n",
       "      <td>1</td>\n",
       "      <td>1</td>\n",
       "      <td>Seni Kreatif dan Desain</td>\n",
       "      <td>1</td>\n",
       "      <td>2</td>\n",
       "      <td>1</td>\n",
       "      <td>0</td>\n",
       "      <td>0</td>\n",
       "      <td>0</td>\n",
       "      <td>...</td>\n",
       "      <td>2.0</td>\n",
       "      <td>0</td>\n",
       "      <td>0</td>\n",
       "      <td>0</td>\n",
       "      <td>0</td>\n",
       "      <td>0</td>\n",
       "      <td>1</td>\n",
       "      <td>0</td>\n",
       "      <td>0</td>\n",
       "      <td>0</td>\n",
       "    </tr>\n",
       "    <tr>\n",
       "      <th>2</th>\n",
       "      <td>10/31/2020 9:31:32</td>\n",
       "      <td>1</td>\n",
       "      <td>1</td>\n",
       "      <td>Teknologi Informasi</td>\n",
       "      <td>0</td>\n",
       "      <td>2</td>\n",
       "      <td>2</td>\n",
       "      <td>0</td>\n",
       "      <td>0</td>\n",
       "      <td>0</td>\n",
       "      <td>...</td>\n",
       "      <td>2.0</td>\n",
       "      <td>0</td>\n",
       "      <td>0</td>\n",
       "      <td>0</td>\n",
       "      <td>0</td>\n",
       "      <td>0</td>\n",
       "      <td>0</td>\n",
       "      <td>0</td>\n",
       "      <td>1</td>\n",
       "      <td>0</td>\n",
       "    </tr>\n",
       "    <tr>\n",
       "      <th>3</th>\n",
       "      <td>10/31/2020 9:37:07</td>\n",
       "      <td>2</td>\n",
       "      <td>1</td>\n",
       "      <td>Teknologi Informasi</td>\n",
       "      <td>1</td>\n",
       "      <td>4</td>\n",
       "      <td>2</td>\n",
       "      <td>0</td>\n",
       "      <td>0</td>\n",
       "      <td>0</td>\n",
       "      <td>...</td>\n",
       "      <td>2.0</td>\n",
       "      <td>0</td>\n",
       "      <td>0</td>\n",
       "      <td>0</td>\n",
       "      <td>0</td>\n",
       "      <td>0</td>\n",
       "      <td>0</td>\n",
       "      <td>0</td>\n",
       "      <td>1</td>\n",
       "      <td>0</td>\n",
       "    </tr>\n",
       "    <tr>\n",
       "      <th>4</th>\n",
       "      <td>10/31/2020 9:38:10</td>\n",
       "      <td>1</td>\n",
       "      <td>1</td>\n",
       "      <td>Teknologi Informasi</td>\n",
       "      <td>0</td>\n",
       "      <td>3</td>\n",
       "      <td>2</td>\n",
       "      <td>0</td>\n",
       "      <td>0</td>\n",
       "      <td>0</td>\n",
       "      <td>...</td>\n",
       "      <td>2.0</td>\n",
       "      <td>0</td>\n",
       "      <td>0</td>\n",
       "      <td>0</td>\n",
       "      <td>0</td>\n",
       "      <td>0</td>\n",
       "      <td>0</td>\n",
       "      <td>0</td>\n",
       "      <td>1</td>\n",
       "      <td>0</td>\n",
       "    </tr>\n",
       "  </tbody>\n",
       "</table>\n",
       "<p>5 rows × 21 columns</p>\n",
       "</div>"
      ],
      "text/plain": [
       "            timestamp  age  sex               occupation  must_use_phone  \\\n",
       "0  10/31/2020 9:29:02    1    1  Seni Kreatif dan Desain               0   \n",
       "1  10/31/2020 9:30:06    1    1  Seni Kreatif dan Desain               1   \n",
       "2  10/31/2020 9:31:32    1    1      Teknologi Informasi               0   \n",
       "3  10/31/2020 9:37:07    2    1      Teknologi Informasi               1   \n",
       "4  10/31/2020 9:38:10    1    1      Teknologi Informasi               0   \n",
       "\n",
       "   screen_time  sleep_time  is_smoker  is_alcoholics  \\\n",
       "0            2           1          0              0   \n",
       "1            2           1          0              0   \n",
       "2            2           2          0              0   \n",
       "3            4           2          0              0   \n",
       "4            3           2          0              0   \n",
       "\n",
       "   is_consuming_special_medicine  ...  difference_before_pandemic  \\\n",
       "0                              1  ...                         2.0   \n",
       "1                              0  ...                         2.0   \n",
       "2                              0  ...                         2.0   \n",
       "3                              0  ...                         2.0   \n",
       "4                              0  ...                         2.0   \n",
       "\n",
       "   occupation_Mahasiswa  occupation_Media Massa  occupation_Otomasi industri  \\\n",
       "0                     0                       0                            0   \n",
       "1                     0                       0                            0   \n",
       "2                     0                       0                            0   \n",
       "3                     0                       0                            0   \n",
       "4                     0                       0                            0   \n",
       "\n",
       "   occupation_Pendidikan  occupation_Perbankan  \\\n",
       "0                      0                     0   \n",
       "1                      0                     0   \n",
       "2                      0                     0   \n",
       "3                      0                     0   \n",
       "4                      0                     0   \n",
       "\n",
       "   occupation_Seni Kreatif dan Desain  occupation_Sosial  \\\n",
       "0                                   1                  0   \n",
       "1                                   1                  0   \n",
       "2                                   0                  0   \n",
       "3                                   0                  0   \n",
       "4                                   0                  0   \n",
       "\n",
       "   occupation_Teknologi Informasi  occupation_Telekomunikasi  \n",
       "0                               0                          0  \n",
       "1                               0                          0  \n",
       "2                               1                          0  \n",
       "3                               1                          0  \n",
       "4                               1                          0  \n",
       "\n",
       "[5 rows x 21 columns]"
      ]
     },
     "execution_count": 80,
     "metadata": {},
     "output_type": "execute_result"
    }
   ],
   "source": [
    "encoded = pd.read_csv(\"dataset/encoded.csv\")\n",
    "encoded.head()"
   ]
  },
  {
   "cell_type": "code",
   "execution_count": 81,
   "metadata": {},
   "outputs": [
    {
     "data": {
      "text/html": [
       "<div>\n",
       "<style scoped>\n",
       "    .dataframe tbody tr th:only-of-type {\n",
       "        vertical-align: middle;\n",
       "    }\n",
       "\n",
       "    .dataframe tbody tr th {\n",
       "        vertical-align: top;\n",
       "    }\n",
       "\n",
       "    .dataframe thead th {\n",
       "        text-align: right;\n",
       "    }\n",
       "</style>\n",
       "<table border=\"1\" class=\"dataframe\">\n",
       "  <thead>\n",
       "    <tr style=\"text-align: right;\">\n",
       "      <th>sleep_time</th>\n",
       "      <th>3 - 5 jam sehari</th>\n",
       "      <th>6 - 8 jam sehari</th>\n",
       "      <th>Kurang dari 2 jam sehari</th>\n",
       "    </tr>\n",
       "    <tr>\n",
       "      <th>age</th>\n",
       "      <th></th>\n",
       "      <th></th>\n",
       "      <th></th>\n",
       "    </tr>\n",
       "  </thead>\n",
       "  <tbody>\n",
       "    <tr>\n",
       "      <th>15-20</th>\n",
       "      <td>12</td>\n",
       "      <td>17</td>\n",
       "      <td>1</td>\n",
       "    </tr>\n",
       "    <tr>\n",
       "      <th>20-25</th>\n",
       "      <td>6</td>\n",
       "      <td>15</td>\n",
       "      <td>0</td>\n",
       "    </tr>\n",
       "    <tr>\n",
       "      <th>25-30</th>\n",
       "      <td>0</td>\n",
       "      <td>2</td>\n",
       "      <td>0</td>\n",
       "    </tr>\n",
       "    <tr>\n",
       "      <th>&gt;35</th>\n",
       "      <td>1</td>\n",
       "      <td>0</td>\n",
       "      <td>0</td>\n",
       "    </tr>\n",
       "  </tbody>\n",
       "</table>\n",
       "</div>"
      ],
      "text/plain": [
       "sleep_time  3 - 5 jam sehari  6 - 8 jam sehari  Kurang dari 2 jam sehari\n",
       "age                                                                     \n",
       "15-20                     12                17                         1\n",
       "20-25                      6                15                         0\n",
       "25-30                      0                 2                         0\n",
       ">35                        1                 0                         0"
      ]
     },
     "execution_count": 81,
     "metadata": {},
     "output_type": "execute_result"
    }
   ],
   "source": [
    "# sleep_time_with_age\n",
    "\n",
    "sleep_time_with_age = pd.crosstab([raw.age], [raw.sleep_time])\n",
    "sleep_time_with_age"
   ]
  },
  {
   "cell_type": "code",
   "execution_count": 82,
   "metadata": {},
   "outputs": [
    {
     "data": {
      "text/plain": [
       "(4.649668288367979,\n",
       " 0.5894641009396733,\n",
       " 6,\n",
       " array([[1.05555556e+01, 1.88888889e+01, 5.55555556e-01],\n",
       "        [7.38888889e+00, 1.32222222e+01, 3.88888889e-01],\n",
       "        [7.03703704e-01, 1.25925926e+00, 3.70370370e-02],\n",
       "        [3.51851852e-01, 6.29629630e-01, 1.85185185e-02]]))"
      ]
     },
     "execution_count": 82,
     "metadata": {},
     "output_type": "execute_result"
    }
   ],
   "source": [
    "# Chi-square test of independence.\n",
    "# Chi, P, Degree of Freedom, Expected\n",
    "chi2_contingency(sleep_time_with_age)"
   ]
  },
  {
   "cell_type": "code",
   "execution_count": 83,
   "metadata": {},
   "outputs": [
    {
     "data": {
      "text/html": [
       "<div>\n",
       "<style scoped>\n",
       "    .dataframe tbody tr th:only-of-type {\n",
       "        vertical-align: middle;\n",
       "    }\n",
       "\n",
       "    .dataframe tbody tr th {\n",
       "        vertical-align: top;\n",
       "    }\n",
       "\n",
       "    .dataframe thead th {\n",
       "        text-align: right;\n",
       "    }\n",
       "</style>\n",
       "<table border=\"1\" class=\"dataframe\">\n",
       "  <thead>\n",
       "    <tr style=\"text-align: right;\">\n",
       "      <th>sleep_time</th>\n",
       "      <th>3 - 5 jam sehari</th>\n",
       "      <th>6 - 8 jam sehari</th>\n",
       "      <th>Kurang dari 2 jam sehari</th>\n",
       "    </tr>\n",
       "    <tr>\n",
       "      <th>screen_time</th>\n",
       "      <th></th>\n",
       "      <th></th>\n",
       "      <th></th>\n",
       "    </tr>\n",
       "  </thead>\n",
       "  <tbody>\n",
       "    <tr>\n",
       "      <th>1 - 2 jam sehari</th>\n",
       "      <td>1</td>\n",
       "      <td>2</td>\n",
       "      <td>0</td>\n",
       "    </tr>\n",
       "    <tr>\n",
       "      <th>3 - 5 jam sehari</th>\n",
       "      <td>7</td>\n",
       "      <td>13</td>\n",
       "      <td>0</td>\n",
       "    </tr>\n",
       "    <tr>\n",
       "      <th>6 - 8 jam sehari</th>\n",
       "      <td>9</td>\n",
       "      <td>8</td>\n",
       "      <td>0</td>\n",
       "    </tr>\n",
       "    <tr>\n",
       "      <th>Kurang dari 1 jam sehari</th>\n",
       "      <td>1</td>\n",
       "      <td>0</td>\n",
       "      <td>0</td>\n",
       "    </tr>\n",
       "    <tr>\n",
       "      <th>Lebih dari 9 jam sehari</th>\n",
       "      <td>1</td>\n",
       "      <td>11</td>\n",
       "      <td>1</td>\n",
       "    </tr>\n",
       "  </tbody>\n",
       "</table>\n",
       "</div>"
      ],
      "text/plain": [
       "sleep_time                3 - 5 jam sehari  6 - 8 jam sehari  \\\n",
       "screen_time                                                    \n",
       "1 - 2 jam sehari                         1                 2   \n",
       "3 - 5 jam sehari                         7                13   \n",
       "6 - 8 jam sehari                         9                 8   \n",
       "Kurang dari 1 jam sehari                 1                 0   \n",
       "Lebih dari 9 jam sehari                  1                11   \n",
       "\n",
       "sleep_time                Kurang dari 2 jam sehari  \n",
       "screen_time                                         \n",
       "1 - 2 jam sehari                                 0  \n",
       "3 - 5 jam sehari                                 0  \n",
       "6 - 8 jam sehari                                 0  \n",
       "Kurang dari 1 jam sehari                         0  \n",
       "Lebih dari 9 jam sehari                          1  "
      ]
     },
     "execution_count": 83,
     "metadata": {},
     "output_type": "execute_result"
    }
   ],
   "source": [
    "# sleep_time_with_screen_time\n",
    "\n",
    "sleep_time_with_screen = pd.crosstab([raw.screen_time], [raw.sleep_time])\n",
    "sleep_time_with_screen"
   ]
  },
  {
   "cell_type": "code",
   "execution_count": 84,
   "metadata": {},
   "outputs": [
    {
     "data": {
      "text/plain": [
       "(10.967176358516735,\n",
       " 0.2035659776741628,\n",
       " 8,\n",
       " array([[ 1.05555556,  1.88888889,  0.05555556],\n",
       "        [ 7.03703704, 12.59259259,  0.37037037],\n",
       "        [ 5.98148148, 10.7037037 ,  0.31481481],\n",
       "        [ 0.35185185,  0.62962963,  0.01851852],\n",
       "        [ 4.57407407,  8.18518519,  0.24074074]]))"
      ]
     },
     "execution_count": 84,
     "metadata": {},
     "output_type": "execute_result"
    }
   ],
   "source": [
    "chi2_contingency(sleep_time_with_screen)"
   ]
  },
  {
   "cell_type": "code",
   "execution_count": 85,
   "metadata": {},
   "outputs": [
    {
     "data": {
      "text/html": [
       "<div>\n",
       "<style scoped>\n",
       "    .dataframe tbody tr th:only-of-type {\n",
       "        vertical-align: middle;\n",
       "    }\n",
       "\n",
       "    .dataframe tbody tr th {\n",
       "        vertical-align: top;\n",
       "    }\n",
       "\n",
       "    .dataframe thead th {\n",
       "        text-align: right;\n",
       "    }\n",
       "</style>\n",
       "<table border=\"1\" class=\"dataframe\">\n",
       "  <thead>\n",
       "    <tr style=\"text-align: right;\">\n",
       "      <th>sleep_time</th>\n",
       "      <th>3 - 5 jam sehari</th>\n",
       "      <th>6 - 8 jam sehari</th>\n",
       "      <th>Kurang dari 2 jam sehari</th>\n",
       "    </tr>\n",
       "    <tr>\n",
       "      <th>occupation</th>\n",
       "      <th></th>\n",
       "      <th></th>\n",
       "      <th></th>\n",
       "    </tr>\n",
       "  </thead>\n",
       "  <tbody>\n",
       "    <tr>\n",
       "      <th>Mahasiswa</th>\n",
       "      <td>2</td>\n",
       "      <td>5</td>\n",
       "      <td>0</td>\n",
       "    </tr>\n",
       "    <tr>\n",
       "      <th>Media Massa</th>\n",
       "      <td>1</td>\n",
       "      <td>1</td>\n",
       "      <td>0</td>\n",
       "    </tr>\n",
       "    <tr>\n",
       "      <th>Otomasi industri</th>\n",
       "      <td>0</td>\n",
       "      <td>1</td>\n",
       "      <td>0</td>\n",
       "    </tr>\n",
       "    <tr>\n",
       "      <th>Pendidikan</th>\n",
       "      <td>4</td>\n",
       "      <td>3</td>\n",
       "      <td>1</td>\n",
       "    </tr>\n",
       "    <tr>\n",
       "      <th>Perbankan</th>\n",
       "      <td>0</td>\n",
       "      <td>3</td>\n",
       "      <td>0</td>\n",
       "    </tr>\n",
       "    <tr>\n",
       "      <th>Seni Kreatif dan Desain</th>\n",
       "      <td>3</td>\n",
       "      <td>3</td>\n",
       "      <td>0</td>\n",
       "    </tr>\n",
       "    <tr>\n",
       "      <th>Sosial</th>\n",
       "      <td>1</td>\n",
       "      <td>0</td>\n",
       "      <td>0</td>\n",
       "    </tr>\n",
       "    <tr>\n",
       "      <th>Teknologi Informasi</th>\n",
       "      <td>8</td>\n",
       "      <td>17</td>\n",
       "      <td>0</td>\n",
       "    </tr>\n",
       "    <tr>\n",
       "      <th>Telekomunikasi</th>\n",
       "      <td>0</td>\n",
       "      <td>1</td>\n",
       "      <td>0</td>\n",
       "    </tr>\n",
       "  </tbody>\n",
       "</table>\n",
       "</div>"
      ],
      "text/plain": [
       "sleep_time               3 - 5 jam sehari  6 - 8 jam sehari  \\\n",
       "occupation                                                    \n",
       "Mahasiswa                               2                 5   \n",
       "Media Massa                             1                 1   \n",
       "Otomasi industri                        0                 1   \n",
       "Pendidikan                              4                 3   \n",
       "Perbankan                               0                 3   \n",
       "Seni Kreatif dan Desain                 3                 3   \n",
       "Sosial                                  1                 0   \n",
       "Teknologi Informasi                     8                17   \n",
       "Telekomunikasi                          0                 1   \n",
       "\n",
       "sleep_time               Kurang dari 2 jam sehari  \n",
       "occupation                                         \n",
       "Mahasiswa                                       0  \n",
       "Media Massa                                     0  \n",
       "Otomasi industri                                0  \n",
       "Pendidikan                                      1  \n",
       "Perbankan                                       0  \n",
       "Seni Kreatif dan Desain                         0  \n",
       "Sosial                                          0  \n",
       "Teknologi Informasi                             0  \n",
       "Telekomunikasi                                  0  "
      ]
     },
     "execution_count": 85,
     "metadata": {},
     "output_type": "execute_result"
    }
   ],
   "source": [
    "# sleep_time_with_occupation\n",
    "\n",
    "sleep_time_with_occupation = pd.crosstab([raw.occupation], [raw.sleep_time])\n",
    "sleep_time_with_occupation"
   ]
  },
  {
   "cell_type": "code",
   "execution_count": 86,
   "metadata": {},
   "outputs": [
    {
     "data": {
      "text/plain": [
       "(12.79705661211853,\n",
       " 0.6875344203676306,\n",
       " 16,\n",
       " array([[ 2.46296296,  4.40740741,  0.12962963],\n",
       "        [ 0.7037037 ,  1.25925926,  0.03703704],\n",
       "        [ 0.35185185,  0.62962963,  0.01851852],\n",
       "        [ 2.81481481,  5.03703704,  0.14814815],\n",
       "        [ 1.05555556,  1.88888889,  0.05555556],\n",
       "        [ 2.11111111,  3.77777778,  0.11111111],\n",
       "        [ 0.35185185,  0.62962963,  0.01851852],\n",
       "        [ 8.7962963 , 15.74074074,  0.46296296],\n",
       "        [ 0.35185185,  0.62962963,  0.01851852]]))"
      ]
     },
     "execution_count": 86,
     "metadata": {},
     "output_type": "execute_result"
    }
   ],
   "source": [
    "chi2_contingency(sleep_time_with_occupation)"
   ]
  },
  {
   "cell_type": "code",
   "execution_count": 68,
   "metadata": {},
   "outputs": [
    {
     "data": {
      "text/html": [
       "<div>\n",
       "<style scoped>\n",
       "    .dataframe tbody tr th:only-of-type {\n",
       "        vertical-align: middle;\n",
       "    }\n",
       "\n",
       "    .dataframe tbody tr th {\n",
       "        vertical-align: top;\n",
       "    }\n",
       "\n",
       "    .dataframe thead th {\n",
       "        text-align: right;\n",
       "    }\n",
       "</style>\n",
       "<table border=\"1\" class=\"dataframe\">\n",
       "  <thead>\n",
       "    <tr style=\"text-align: right;\">\n",
       "      <th>sleep_time</th>\n",
       "      <th>3 - 5 jam sehari</th>\n",
       "      <th>6 - 8 jam sehari</th>\n",
       "      <th>Kurang dari 2 jam sehari</th>\n",
       "    </tr>\n",
       "    <tr>\n",
       "      <th>must_use_phone</th>\n",
       "      <th></th>\n",
       "      <th></th>\n",
       "      <th></th>\n",
       "    </tr>\n",
       "  </thead>\n",
       "  <tbody>\n",
       "    <tr>\n",
       "      <th>Tidak</th>\n",
       "      <td>6</td>\n",
       "      <td>19</td>\n",
       "      <td>0</td>\n",
       "    </tr>\n",
       "    <tr>\n",
       "      <th>Ya</th>\n",
       "      <td>13</td>\n",
       "      <td>15</td>\n",
       "      <td>1</td>\n",
       "    </tr>\n",
       "  </tbody>\n",
       "</table>\n",
       "</div>"
      ],
      "text/plain": [
       "sleep_time      3 - 5 jam sehari  6 - 8 jam sehari  Kurang dari 2 jam sehari\n",
       "must_use_phone                                                              \n",
       "Tidak                          6                19                         0\n",
       "Ya                            13                15                         1"
      ]
     },
     "execution_count": 68,
     "metadata": {},
     "output_type": "execute_result"
    }
   ],
   "source": [
    "# sleep_time_with_screen_time\n",
    "\n",
    "sleep_time_with_forced_to_use_phone = pd.crosstab([raw.must_use_phone], [raw.sleep_time])\n",
    "sleep_time_with_forced_to_use_phone"
   ]
  },
  {
   "cell_type": "code",
   "execution_count": 67,
   "metadata": {},
   "outputs": [
    {
     "name": "stdout",
     "output_type": "stream",
     "text": [
      "(3.773946834632219, 0.1515297327798016, 2, array([[ 8.7962963 , 15.74074074,  0.46296296],\n",
      "       [10.2037037 , 18.25925926,  0.53703704]]))\n"
     ]
    }
   ],
   "source": [
    "print(chi2_contingency(sleep_time_with_forced_to_use_phone))"
   ]
  },
  {
   "cell_type": "code",
   "execution_count": 62,
   "metadata": {},
   "outputs": [
    {
     "data": {
      "text/html": [
       "<div>\n",
       "<style scoped>\n",
       "    .dataframe tbody tr th:only-of-type {\n",
       "        vertical-align: middle;\n",
       "    }\n",
       "\n",
       "    .dataframe tbody tr th {\n",
       "        vertical-align: top;\n",
       "    }\n",
       "\n",
       "    .dataframe thead th {\n",
       "        text-align: right;\n",
       "    }\n",
       "</style>\n",
       "<table border=\"1\" class=\"dataframe\">\n",
       "  <thead>\n",
       "    <tr style=\"text-align: right;\">\n",
       "      <th>sleep_time</th>\n",
       "      <th>3 - 5 jam sehari</th>\n",
       "      <th>6 - 8 jam sehari</th>\n",
       "      <th>Kurang dari 2 jam sehari</th>\n",
       "    </tr>\n",
       "    <tr>\n",
       "      <th>sex</th>\n",
       "      <th></th>\n",
       "      <th></th>\n",
       "      <th></th>\n",
       "    </tr>\n",
       "  </thead>\n",
       "  <tbody>\n",
       "    <tr>\n",
       "      <th>Pria</th>\n",
       "      <td>14</td>\n",
       "      <td>24</td>\n",
       "      <td>0</td>\n",
       "    </tr>\n",
       "    <tr>\n",
       "      <th>Wanita</th>\n",
       "      <td>5</td>\n",
       "      <td>10</td>\n",
       "      <td>1</td>\n",
       "    </tr>\n",
       "  </tbody>\n",
       "</table>\n",
       "</div>"
      ],
      "text/plain": [
       "sleep_time  3 - 5 jam sehari  6 - 8 jam sehari  Kurang dari 2 jam sehari\n",
       "sex                                                                     \n",
       "Pria                      14                24                         0\n",
       "Wanita                     5                10                         1"
      ]
     },
     "execution_count": 62,
     "metadata": {},
     "output_type": "execute_result"
    }
   ],
   "source": [
    "# sleep_time_with_sex\n",
    "\n",
    "sleep_time_with_sex = pd.crosstab([raw.sex], [raw.sleep_time])\n",
    "sleep_time_with_sex"
   ]
  },
  {
   "cell_type": "code",
   "execution_count": 70,
   "metadata": {},
   "outputs": [
    {
     "data": {
      "text/plain": [
       "(2.475843245885612,\n",
       " 0.289986292911004,\n",
       " 2,\n",
       " array([[13.37037037, 23.92592593,  0.7037037 ],\n",
       "        [ 5.62962963, 10.07407407,  0.2962963 ]]))"
      ]
     },
     "execution_count": 70,
     "metadata": {},
     "output_type": "execute_result"
    }
   ],
   "source": [
    "chi2_contingency(sleep_time_with_sex)"
   ]
  },
  {
   "cell_type": "code",
   "execution_count": 89,
   "metadata": {},
   "outputs": [
    {
     "data": {
      "text/html": [
       "<div>\n",
       "<style scoped>\n",
       "    .dataframe tbody tr th:only-of-type {\n",
       "        vertical-align: middle;\n",
       "    }\n",
       "\n",
       "    .dataframe tbody tr th {\n",
       "        vertical-align: top;\n",
       "    }\n",
       "\n",
       "    .dataframe thead th {\n",
       "        text-align: right;\n",
       "    }\n",
       "</style>\n",
       "<table border=\"1\" class=\"dataframe\">\n",
       "  <thead>\n",
       "    <tr style=\"text-align: right;\">\n",
       "      <th>sleep_time</th>\n",
       "      <th>3 - 5 jam sehari</th>\n",
       "      <th>6 - 8 jam sehari</th>\n",
       "      <th>Kurang dari 2 jam sehari</th>\n",
       "    </tr>\n",
       "    <tr>\n",
       "      <th>is_smoker</th>\n",
       "      <th></th>\n",
       "      <th></th>\n",
       "      <th></th>\n",
       "    </tr>\n",
       "  </thead>\n",
       "  <tbody>\n",
       "    <tr>\n",
       "      <th>Tidak, saya bukan seorang perokok aktif</th>\n",
       "      <td>17</td>\n",
       "      <td>34</td>\n",
       "      <td>1</td>\n",
       "    </tr>\n",
       "    <tr>\n",
       "      <th>Ya, saya seorang perokok aktif</th>\n",
       "      <td>2</td>\n",
       "      <td>0</td>\n",
       "      <td>0</td>\n",
       "    </tr>\n",
       "  </tbody>\n",
       "</table>\n",
       "</div>"
      ],
      "text/plain": [
       "sleep_time                               3 - 5 jam sehari  6 - 8 jam sehari  \\\n",
       "is_smoker                                                                     \n",
       "Tidak, saya bukan seorang perokok aktif                17                34   \n",
       "Ya, saya seorang perokok aktif                          2                 0   \n",
       "\n",
       "sleep_time                               Kurang dari 2 jam sehari  \n",
       "is_smoker                                                          \n",
       "Tidak, saya bukan seorang perokok aktif                         1  \n",
       "Ya, saya seorang perokok aktif                                  0  "
      ]
     },
     "execution_count": 89,
     "metadata": {},
     "output_type": "execute_result"
    }
   ],
   "source": [
    "sleep_time_with_smoke_habits = pd.crosstab([raw.is_smoker], [raw.sleep_time])\n",
    "sleep_time_with_smoke_habits"
   ]
  },
  {
   "cell_type": "code",
   "execution_count": 91,
   "metadata": {},
   "outputs": [
    {
     "data": {
      "text/plain": [
       "(3.8259109311740893,\n",
       " 0.14764338619667502,\n",
       " 2,\n",
       " array([[18.2962963 , 32.74074074,  0.96296296],\n",
       "        [ 0.7037037 ,  1.25925926,  0.03703704]]))"
      ]
     },
     "execution_count": 91,
     "metadata": {},
     "output_type": "execute_result"
    }
   ],
   "source": [
    "chi2_contingency(sleep_time_with_smoke_habits)"
   ]
  },
  {
   "cell_type": "code",
   "execution_count": 94,
   "metadata": {},
   "outputs": [
    {
     "data": {
      "text/html": [
       "<div>\n",
       "<style scoped>\n",
       "    .dataframe tbody tr th:only-of-type {\n",
       "        vertical-align: middle;\n",
       "    }\n",
       "\n",
       "    .dataframe tbody tr th {\n",
       "        vertical-align: top;\n",
       "    }\n",
       "\n",
       "    .dataframe thead th {\n",
       "        text-align: right;\n",
       "    }\n",
       "</style>\n",
       "<table border=\"1\" class=\"dataframe\">\n",
       "  <thead>\n",
       "    <tr style=\"text-align: right;\">\n",
       "      <th>sleep_time</th>\n",
       "      <th>3 - 5 jam sehari</th>\n",
       "      <th>6 - 8 jam sehari</th>\n",
       "      <th>Kurang dari 2 jam sehari</th>\n",
       "    </tr>\n",
       "    <tr>\n",
       "      <th>is_alcoholics</th>\n",
       "      <th></th>\n",
       "      <th></th>\n",
       "      <th></th>\n",
       "    </tr>\n",
       "  </thead>\n",
       "  <tbody>\n",
       "    <tr>\n",
       "      <th>Tidak</th>\n",
       "      <td>17</td>\n",
       "      <td>34</td>\n",
       "      <td>1</td>\n",
       "    </tr>\n",
       "    <tr>\n",
       "      <th>Ya</th>\n",
       "      <td>2</td>\n",
       "      <td>0</td>\n",
       "      <td>0</td>\n",
       "    </tr>\n",
       "  </tbody>\n",
       "</table>\n",
       "</div>"
      ],
      "text/plain": [
       "sleep_time     3 - 5 jam sehari  6 - 8 jam sehari  Kurang dari 2 jam sehari\n",
       "is_alcoholics                                                              \n",
       "Tidak                        17                34                         1\n",
       "Ya                            2                 0                         0"
      ]
     },
     "execution_count": 94,
     "metadata": {},
     "output_type": "execute_result"
    }
   ],
   "source": [
    "sleep_time_with_drink_habits = pd.crosstab([raw.is_alcoholics], [raw.sleep_time])\n",
    "sleep_time_with_drink_habits"
   ]
  },
  {
   "cell_type": "code",
   "execution_count": 98,
   "metadata": {},
   "outputs": [
    {
     "data": {
      "text/plain": [
       "(3.8259109311740893,\n",
       " 0.14764338619667502,\n",
       " 2,\n",
       " array([[18.2962963 , 32.74074074,  0.96296296],\n",
       "        [ 0.7037037 ,  1.25925926,  0.03703704]]))"
      ]
     },
     "execution_count": 98,
     "metadata": {},
     "output_type": "execute_result"
    }
   ],
   "source": [
    "chi2_contingency(sleep_time_with_drink_habits)"
   ]
  },
  {
   "cell_type": "code",
   "execution_count": 99,
   "metadata": {},
   "outputs": [
    {
     "data": {
      "text/html": [
       "<div>\n",
       "<style scoped>\n",
       "    .dataframe tbody tr th:only-of-type {\n",
       "        vertical-align: middle;\n",
       "    }\n",
       "\n",
       "    .dataframe tbody tr th {\n",
       "        vertical-align: top;\n",
       "    }\n",
       "\n",
       "    .dataframe thead th {\n",
       "        text-align: right;\n",
       "    }\n",
       "</style>\n",
       "<table border=\"1\" class=\"dataframe\">\n",
       "  <thead>\n",
       "    <tr style=\"text-align: right;\">\n",
       "      <th>sleep_time</th>\n",
       "      <th>3 - 5 jam sehari</th>\n",
       "      <th>6 - 8 jam sehari</th>\n",
       "      <th>Kurang dari 2 jam sehari</th>\n",
       "    </tr>\n",
       "    <tr>\n",
       "      <th>is_screen_time_distract_sleep</th>\n",
       "      <th></th>\n",
       "      <th></th>\n",
       "      <th></th>\n",
       "    </tr>\n",
       "  </thead>\n",
       "  <tbody>\n",
       "    <tr>\n",
       "      <th>Mungkin</th>\n",
       "      <td>8</td>\n",
       "      <td>17</td>\n",
       "      <td>0</td>\n",
       "    </tr>\n",
       "    <tr>\n",
       "      <th>Tidak</th>\n",
       "      <td>5</td>\n",
       "      <td>7</td>\n",
       "      <td>0</td>\n",
       "    </tr>\n",
       "    <tr>\n",
       "      <th>Ya</th>\n",
       "      <td>6</td>\n",
       "      <td>10</td>\n",
       "      <td>1</td>\n",
       "    </tr>\n",
       "  </tbody>\n",
       "</table>\n",
       "</div>"
      ],
      "text/plain": [
       "sleep_time                     3 - 5 jam sehari  6 - 8 jam sehari  \\\n",
       "is_screen_time_distract_sleep                                       \n",
       "Mungkin                                       8                17   \n",
       "Tidak                                         5                 7   \n",
       "Ya                                            6                10   \n",
       "\n",
       "sleep_time                     Kurang dari 2 jam sehari  \n",
       "is_screen_time_distract_sleep                            \n",
       "Mungkin                                               0  \n",
       "Tidak                                                 0  \n",
       "Ya                                                    1  "
      ]
     },
     "execution_count": 99,
     "metadata": {},
     "output_type": "execute_result"
    }
   ],
   "source": [
    "sleep_time_with_sleep_distracted = pd.crosstab([raw.is_screen_time_distract_sleep], [raw.sleep_time])\n",
    "sleep_time_with_sleep_distracted"
   ]
  },
  {
   "cell_type": "code",
   "execution_count": 101,
   "metadata": {},
   "outputs": [
    {
     "data": {
      "text/plain": [
       "(2.5797432161719174,\n",
       " 0.6304156858135397,\n",
       " 4,\n",
       " array([[ 8.7962963 , 15.74074074,  0.46296296],\n",
       "        [ 4.22222222,  7.55555556,  0.22222222],\n",
       "        [ 5.98148148, 10.7037037 ,  0.31481481]]))"
      ]
     },
     "execution_count": 101,
     "metadata": {},
     "output_type": "execute_result"
    }
   ],
   "source": [
    "chi2_contingency(sleep_time_with_sleep_distracted)"
   ]
  },
  {
   "cell_type": "code",
   "execution_count": 103,
   "metadata": {},
   "outputs": [
    {
     "data": {
      "text/html": [
       "<div>\n",
       "<style scoped>\n",
       "    .dataframe tbody tr th:only-of-type {\n",
       "        vertical-align: middle;\n",
       "    }\n",
       "\n",
       "    .dataframe tbody tr th {\n",
       "        vertical-align: top;\n",
       "    }\n",
       "\n",
       "    .dataframe thead th {\n",
       "        text-align: right;\n",
       "    }\n",
       "</style>\n",
       "<table border=\"1\" class=\"dataframe\">\n",
       "  <thead>\n",
       "    <tr style=\"text-align: right;\">\n",
       "      <th>sleep_time</th>\n",
       "      <th>3 - 5 jam sehari</th>\n",
       "      <th>6 - 8 jam sehari</th>\n",
       "      <th>Kurang dari 2 jam sehari</th>\n",
       "    </tr>\n",
       "    <tr>\n",
       "      <th>difference_before_pandemic</th>\n",
       "      <th></th>\n",
       "      <th></th>\n",
       "      <th></th>\n",
       "    </tr>\n",
       "  </thead>\n",
       "  <tbody>\n",
       "    <tr>\n",
       "      <th>Tidak ada perubahan</th>\n",
       "      <td>6</td>\n",
       "      <td>6</td>\n",
       "      <td>0</td>\n",
       "    </tr>\n",
       "    <tr>\n",
       "      <th>Ya, lebih sering menatap layar ponsel saat pandemi</th>\n",
       "      <td>13</td>\n",
       "      <td>26</td>\n",
       "      <td>1</td>\n",
       "    </tr>\n",
       "  </tbody>\n",
       "</table>\n",
       "</div>"
      ],
      "text/plain": [
       "sleep_time                                          3 - 5 jam sehari  \\\n",
       "difference_before_pandemic                                             \n",
       "Tidak ada perubahan                                                6   \n",
       "Ya, lebih sering menatap layar ponsel saat pandemi                13   \n",
       "\n",
       "sleep_time                                          6 - 8 jam sehari  \\\n",
       "difference_before_pandemic                                             \n",
       "Tidak ada perubahan                                                6   \n",
       "Ya, lebih sering menatap layar ponsel saat pandemi                26   \n",
       "\n",
       "sleep_time                                          Kurang dari 2 jam sehari  \n",
       "difference_before_pandemic                                                    \n",
       "Tidak ada perubahan                                                        0  \n",
       "Ya, lebih sering menatap layar ponsel saat pandemi                         1  "
      ]
     },
     "execution_count": 103,
     "metadata": {},
     "output_type": "execute_result"
    }
   ],
   "source": [
    "sleep_time_with_screen_habits_change = pd.crosstab([raw.difference_before_pandemic], [raw.sleep_time])\n",
    "sleep_time_with_screen_habits_change"
   ]
  },
  {
   "cell_type": "code",
   "execution_count": 105,
   "metadata": {},
   "outputs": [
    {
     "data": {
      "text/plain": [
       "(1.4111842105263157,\n",
       " 0.49381609656608805,\n",
       " 2,\n",
       " array([[ 4.38461538,  7.38461538,  0.23076923],\n",
       "        [14.61538462, 24.61538462,  0.76923077]]))"
      ]
     },
     "execution_count": 105,
     "metadata": {},
     "output_type": "execute_result"
    }
   ],
   "source": [
    "chi2_contingency(sleep_time_with_screen_habits_change)"
   ]
  },
  {
   "cell_type": "code",
   "execution_count": null,
   "metadata": {},
   "outputs": [],
   "source": [
    "# P value tidak ada yang bernilai di bawah alpha normal yakni 0.05. Maka Variabel Dependen Sleep Time\n",
    "# tidak berkorelasi dengan variabel bebas di atas. \n",
    "\n",
    "# Pengembangan selanjutnya bisa dilakukan dengan pengambilan data yang berbeda seperti screen time total \n",
    "# pada handphone, tv, laptop dan gadget ber-layar lainnya. "
   ]
  },
  {
   "cell_type": "code",
   "execution_count": null,
   "metadata": {},
   "outputs": [],
   "source": []
  }
 ],
 "metadata": {
  "kernelspec": {
   "display_name": "Python 3",
   "language": "python",
   "name": "python3"
  },
  "language_info": {
   "codemirror_mode": {
    "name": "ipython",
    "version": 3
   },
   "file_extension": ".py",
   "mimetype": "text/x-python",
   "name": "python",
   "nbconvert_exporter": "python",
   "pygments_lexer": "ipython3",
   "version": "3.8.5"
  }
 },
 "nbformat": 4,
 "nbformat_minor": 4
}
