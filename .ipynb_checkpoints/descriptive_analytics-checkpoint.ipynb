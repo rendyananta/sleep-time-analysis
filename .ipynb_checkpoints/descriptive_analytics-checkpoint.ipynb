{
 "cells": [
  {
   "cell_type": "code",
   "execution_count": 33,
   "metadata": {},
   "outputs": [],
   "source": [
    "import pandas as pd\n",
    "import seaborn as sns\n",
    "from scipy.stats import chi2_contingency"
   ]
  },
  {
   "cell_type": "code",
   "execution_count": 34,
   "metadata": {},
   "outputs": [
    {
     "data": {
      "text/plain": [
       "(47, 12)"
      ]
     },
     "execution_count": 34,
     "metadata": {},
     "output_type": "execute_result"
    }
   ],
   "source": [
    "#1 Encode datasets\n",
    "\n",
    "raw = pd.read_csv(\"dataset/adjusted.csv\")\n",
    "raw.shape"
   ]
  },
  {
   "cell_type": "code",
   "execution_count": 35,
   "metadata": {},
   "outputs": [
    {
     "data": {
      "text/plain": [
       "Index(['timestamp', 'age', 'sex', 'occupation', 'must_use_phone',\n",
       "       'screen_time', 'sleep_time', 'is_smoker', 'is_alcoholics',\n",
       "       'is_consuming_special_medicine', 'is_screen_time_distract_sleep',\n",
       "       'difference_before_pandemic'],\n",
       "      dtype='object')"
      ]
     },
     "execution_count": 35,
     "metadata": {},
     "output_type": "execute_result"
    }
   ],
   "source": [
    "raw.columns"
   ]
  },
  {
   "cell_type": "code",
   "execution_count": 36,
   "metadata": {},
   "outputs": [
    {
     "data": {
      "text/plain": [
       "count        47\n",
       "unique        4\n",
       "top       15-20\n",
       "freq         24\n",
       "Name: age, dtype: object"
      ]
     },
     "execution_count": 36,
     "metadata": {},
     "output_type": "execute_result"
    }
   ],
   "source": [
    "# Demography of the respondents\n",
    "\n",
    "raw[\"age\"].describe()"
   ]
  },
  {
   "cell_type": "code",
   "execution_count": 37,
   "metadata": {
    "scrolled": true
   },
   "outputs": [
    {
     "data": {
      "text/html": [
       "<div>\n",
       "<style scoped>\n",
       "    .dataframe tbody tr th:only-of-type {\n",
       "        vertical-align: middle;\n",
       "    }\n",
       "\n",
       "    .dataframe tbody tr th {\n",
       "        vertical-align: top;\n",
       "    }\n",
       "\n",
       "    .dataframe thead th {\n",
       "        text-align: right;\n",
       "    }\n",
       "</style>\n",
       "<table border=\"1\" class=\"dataframe\">\n",
       "  <thead>\n",
       "    <tr style=\"text-align: right;\">\n",
       "      <th></th>\n",
       "      <th>screen_time</th>\n",
       "      <th>sleep_time</th>\n",
       "    </tr>\n",
       "  </thead>\n",
       "  <tbody>\n",
       "    <tr>\n",
       "      <th>count</th>\n",
       "      <td>47</td>\n",
       "      <td>47</td>\n",
       "    </tr>\n",
       "    <tr>\n",
       "      <th>unique</th>\n",
       "      <td>5</td>\n",
       "      <td>3</td>\n",
       "    </tr>\n",
       "    <tr>\n",
       "      <th>top</th>\n",
       "      <td>3 - 5 jam sehari</td>\n",
       "      <td>6 - 8 jam sehari</td>\n",
       "    </tr>\n",
       "    <tr>\n",
       "      <th>freq</th>\n",
       "      <td>19</td>\n",
       "      <td>29</td>\n",
       "    </tr>\n",
       "  </tbody>\n",
       "</table>\n",
       "</div>"
      ],
      "text/plain": [
       "             screen_time        sleep_time\n",
       "count                 47                47\n",
       "unique                 5                 3\n",
       "top     3 - 5 jam sehari  6 - 8 jam sehari\n",
       "freq                  19                29"
      ]
     },
     "execution_count": 37,
     "metadata": {},
     "output_type": "execute_result"
    }
   ],
   "source": [
    "# Screen time description\n",
    "\n",
    "raw[[\"screen_time\", \"sleep_time\"]].describe()"
   ]
  },
  {
   "cell_type": "code",
   "execution_count": 38,
   "metadata": {},
   "outputs": [
    {
     "data": {
      "text/html": [
       "<div>\n",
       "<style scoped>\n",
       "    .dataframe tbody tr th:only-of-type {\n",
       "        vertical-align: middle;\n",
       "    }\n",
       "\n",
       "    .dataframe tbody tr th {\n",
       "        vertical-align: top;\n",
       "    }\n",
       "\n",
       "    .dataframe thead tr th {\n",
       "        text-align: left;\n",
       "    }\n",
       "\n",
       "    .dataframe thead tr:last-of-type th {\n",
       "        text-align: right;\n",
       "    }\n",
       "</style>\n",
       "<table border=\"1\" class=\"dataframe\">\n",
       "  <thead>\n",
       "    <tr>\n",
       "      <th></th>\n",
       "      <th colspan=\"4\" halign=\"left\">screen_time</th>\n",
       "    </tr>\n",
       "    <tr>\n",
       "      <th></th>\n",
       "      <th>count</th>\n",
       "      <th>unique</th>\n",
       "      <th>top</th>\n",
       "      <th>freq</th>\n",
       "    </tr>\n",
       "    <tr>\n",
       "      <th>sleep_time</th>\n",
       "      <th></th>\n",
       "      <th></th>\n",
       "      <th></th>\n",
       "      <th></th>\n",
       "    </tr>\n",
       "  </thead>\n",
       "  <tbody>\n",
       "    <tr>\n",
       "      <th>3 - 5 jam sehari</th>\n",
       "      <td>17</td>\n",
       "      <td>4</td>\n",
       "      <td>6 - 8 jam sehari</td>\n",
       "      <td>8</td>\n",
       "    </tr>\n",
       "    <tr>\n",
       "      <th>6 - 8 jam sehari</th>\n",
       "      <td>29</td>\n",
       "      <td>4</td>\n",
       "      <td>3 - 5 jam sehari</td>\n",
       "      <td>12</td>\n",
       "    </tr>\n",
       "    <tr>\n",
       "      <th>Kurang dari 2 jam sehari</th>\n",
       "      <td>1</td>\n",
       "      <td>1</td>\n",
       "      <td>Lebih dari 9 jam sehari</td>\n",
       "      <td>1</td>\n",
       "    </tr>\n",
       "  </tbody>\n",
       "</table>\n",
       "</div>"
      ],
      "text/plain": [
       "                         screen_time                                     \n",
       "                               count unique                      top freq\n",
       "sleep_time                                                               \n",
       "3 - 5 jam sehari                  17      4         6 - 8 jam sehari    8\n",
       "6 - 8 jam sehari                  29      4         3 - 5 jam sehari   12\n",
       "Kurang dari 2 jam sehari           1      1  Lebih dari 9 jam sehari    1"
      ]
     },
     "execution_count": 38,
     "metadata": {},
     "output_type": "execute_result"
    }
   ],
   "source": [
    "raw[[\"screen_time\", \"sleep_time\"]].groupby(\"sleep_time\").describe()"
   ]
  },
  {
   "cell_type": "code",
   "execution_count": 39,
   "metadata": {},
   "outputs": [
    {
     "data": {
      "text/html": [
       "<div>\n",
       "<style scoped>\n",
       "    .dataframe tbody tr th:only-of-type {\n",
       "        vertical-align: middle;\n",
       "    }\n",
       "\n",
       "    .dataframe tbody tr th {\n",
       "        vertical-align: top;\n",
       "    }\n",
       "\n",
       "    .dataframe thead tr th {\n",
       "        text-align: left;\n",
       "    }\n",
       "\n",
       "    .dataframe thead tr:last-of-type th {\n",
       "        text-align: right;\n",
       "    }\n",
       "</style>\n",
       "<table border=\"1\" class=\"dataframe\">\n",
       "  <thead>\n",
       "    <tr>\n",
       "      <th></th>\n",
       "      <th colspan=\"4\" halign=\"left\">sleep_time</th>\n",
       "    </tr>\n",
       "    <tr>\n",
       "      <th></th>\n",
       "      <th>count</th>\n",
       "      <th>unique</th>\n",
       "      <th>top</th>\n",
       "      <th>freq</th>\n",
       "    </tr>\n",
       "    <tr>\n",
       "      <th>occupation</th>\n",
       "      <th></th>\n",
       "      <th></th>\n",
       "      <th></th>\n",
       "      <th></th>\n",
       "    </tr>\n",
       "  </thead>\n",
       "  <tbody>\n",
       "    <tr>\n",
       "      <th>Media Massa</th>\n",
       "      <td>2</td>\n",
       "      <td>2</td>\n",
       "      <td>3 - 5 jam sehari</td>\n",
       "      <td>1</td>\n",
       "    </tr>\n",
       "    <tr>\n",
       "      <th>Otomasi industri</th>\n",
       "      <td>1</td>\n",
       "      <td>1</td>\n",
       "      <td>6 - 8 jam sehari</td>\n",
       "      <td>1</td>\n",
       "    </tr>\n",
       "    <tr>\n",
       "      <th>Pendidikan</th>\n",
       "      <td>8</td>\n",
       "      <td>3</td>\n",
       "      <td>3 - 5 jam sehari</td>\n",
       "      <td>4</td>\n",
       "    </tr>\n",
       "    <tr>\n",
       "      <th>Perbankan</th>\n",
       "      <td>3</td>\n",
       "      <td>1</td>\n",
       "      <td>6 - 8 jam sehari</td>\n",
       "      <td>3</td>\n",
       "    </tr>\n",
       "    <tr>\n",
       "      <th>Seni Kreatif dan Desain</th>\n",
       "      <td>6</td>\n",
       "      <td>2</td>\n",
       "      <td>3 - 5 jam sehari</td>\n",
       "      <td>3</td>\n",
       "    </tr>\n",
       "    <tr>\n",
       "      <th>Sosial</th>\n",
       "      <td>1</td>\n",
       "      <td>1</td>\n",
       "      <td>3 - 5 jam sehari</td>\n",
       "      <td>1</td>\n",
       "    </tr>\n",
       "    <tr>\n",
       "      <th>Teknologi Informasi</th>\n",
       "      <td>25</td>\n",
       "      <td>2</td>\n",
       "      <td>6 - 8 jam sehari</td>\n",
       "      <td>17</td>\n",
       "    </tr>\n",
       "    <tr>\n",
       "      <th>Telekomunikasi</th>\n",
       "      <td>1</td>\n",
       "      <td>1</td>\n",
       "      <td>6 - 8 jam sehari</td>\n",
       "      <td>1</td>\n",
       "    </tr>\n",
       "  </tbody>\n",
       "</table>\n",
       "</div>"
      ],
      "text/plain": [
       "                        sleep_time                              \n",
       "                             count unique               top freq\n",
       "occupation                                                      \n",
       "Media Massa                      2      2  3 - 5 jam sehari    1\n",
       "Otomasi industri                 1      1  6 - 8 jam sehari    1\n",
       "Pendidikan                       8      3  3 - 5 jam sehari    4\n",
       "Perbankan                        3      1  6 - 8 jam sehari    3\n",
       "Seni Kreatif dan Desain          6      2  3 - 5 jam sehari    3\n",
       "Sosial                           1      1  3 - 5 jam sehari    1\n",
       "Teknologi Informasi             25      2  6 - 8 jam sehari   17\n",
       "Telekomunikasi                   1      1  6 - 8 jam sehari    1"
      ]
     },
     "execution_count": 39,
     "metadata": {},
     "output_type": "execute_result"
    }
   ],
   "source": [
    "raw[[\"occupation\", \"sleep_time\"]].groupby(\"occupation\").describe()"
   ]
  },
  {
   "cell_type": "code",
   "execution_count": 40,
   "metadata": {},
   "outputs": [
    {
     "data": {
      "text/plain": [
       "count                                          47\n",
       "unique                                          2\n",
       "top       Tidak, saya bukan seorang perokok aktif\n",
       "freq                                           45\n",
       "Name: is_smoker, dtype: object"
      ]
     },
     "execution_count": 40,
     "metadata": {},
     "output_type": "execute_result"
    }
   ],
   "source": [
    "raw.is_smoker.describe()"
   ]
  },
  {
   "cell_type": "code",
   "execution_count": 41,
   "metadata": {},
   "outputs": [
    {
     "data": {
      "text/plain": [
       "count        47\n",
       "unique        2\n",
       "top       Tidak\n",
       "freq         45\n",
       "Name: is_alcoholics, dtype: object"
      ]
     },
     "execution_count": 41,
     "metadata": {},
     "output_type": "execute_result"
    }
   ],
   "source": [
    "raw.is_alcoholics.describe()"
   ]
  },
  {
   "cell_type": "code",
   "execution_count": 42,
   "metadata": {},
   "outputs": [
    {
     "data": {
      "text/html": [
       "<div>\n",
       "<style scoped>\n",
       "    .dataframe tbody tr th:only-of-type {\n",
       "        vertical-align: middle;\n",
       "    }\n",
       "\n",
       "    .dataframe tbody tr th {\n",
       "        vertical-align: top;\n",
       "    }\n",
       "\n",
       "    .dataframe thead th {\n",
       "        text-align: right;\n",
       "    }\n",
       "</style>\n",
       "<table border=\"1\" class=\"dataframe\">\n",
       "  <thead>\n",
       "    <tr style=\"text-align: right;\">\n",
       "      <th></th>\n",
       "      <th>timestamp</th>\n",
       "      <th>age</th>\n",
       "      <th>sex</th>\n",
       "      <th>occupation</th>\n",
       "      <th>must_use_phone</th>\n",
       "      <th>screen_time</th>\n",
       "      <th>sleep_time</th>\n",
       "      <th>is_smoker</th>\n",
       "      <th>is_alcoholics</th>\n",
       "      <th>is_consuming_special_medicine</th>\n",
       "      <th>...</th>\n",
       "      <th>difference_before_pandemic</th>\n",
       "      <th>occupation_Mahasiswa</th>\n",
       "      <th>occupation_Media Massa</th>\n",
       "      <th>occupation_Otomasi industri</th>\n",
       "      <th>occupation_Pendidikan</th>\n",
       "      <th>occupation_Perbankan</th>\n",
       "      <th>occupation_Seni Kreatif dan Desain</th>\n",
       "      <th>occupation_Sosial</th>\n",
       "      <th>occupation_Teknologi Informasi</th>\n",
       "      <th>occupation_Telekomunikasi</th>\n",
       "    </tr>\n",
       "  </thead>\n",
       "  <tbody>\n",
       "    <tr>\n",
       "      <th>0</th>\n",
       "      <td>10/31/2020 9:29:02</td>\n",
       "      <td>1</td>\n",
       "      <td>1</td>\n",
       "      <td>Seni Kreatif dan Desain</td>\n",
       "      <td>0</td>\n",
       "      <td>2</td>\n",
       "      <td>1</td>\n",
       "      <td>0</td>\n",
       "      <td>0</td>\n",
       "      <td>1</td>\n",
       "      <td>...</td>\n",
       "      <td>2.0</td>\n",
       "      <td>0</td>\n",
       "      <td>0</td>\n",
       "      <td>0</td>\n",
       "      <td>0</td>\n",
       "      <td>0</td>\n",
       "      <td>1</td>\n",
       "      <td>0</td>\n",
       "      <td>0</td>\n",
       "      <td>0</td>\n",
       "    </tr>\n",
       "    <tr>\n",
       "      <th>1</th>\n",
       "      <td>10/31/2020 9:30:06</td>\n",
       "      <td>1</td>\n",
       "      <td>1</td>\n",
       "      <td>Seni Kreatif dan Desain</td>\n",
       "      <td>1</td>\n",
       "      <td>2</td>\n",
       "      <td>1</td>\n",
       "      <td>0</td>\n",
       "      <td>0</td>\n",
       "      <td>0</td>\n",
       "      <td>...</td>\n",
       "      <td>2.0</td>\n",
       "      <td>0</td>\n",
       "      <td>0</td>\n",
       "      <td>0</td>\n",
       "      <td>0</td>\n",
       "      <td>0</td>\n",
       "      <td>1</td>\n",
       "      <td>0</td>\n",
       "      <td>0</td>\n",
       "      <td>0</td>\n",
       "    </tr>\n",
       "    <tr>\n",
       "      <th>2</th>\n",
       "      <td>10/31/2020 9:31:32</td>\n",
       "      <td>1</td>\n",
       "      <td>1</td>\n",
       "      <td>Teknologi Informasi</td>\n",
       "      <td>0</td>\n",
       "      <td>2</td>\n",
       "      <td>2</td>\n",
       "      <td>0</td>\n",
       "      <td>0</td>\n",
       "      <td>0</td>\n",
       "      <td>...</td>\n",
       "      <td>2.0</td>\n",
       "      <td>0</td>\n",
       "      <td>0</td>\n",
       "      <td>0</td>\n",
       "      <td>0</td>\n",
       "      <td>0</td>\n",
       "      <td>0</td>\n",
       "      <td>0</td>\n",
       "      <td>1</td>\n",
       "      <td>0</td>\n",
       "    </tr>\n",
       "    <tr>\n",
       "      <th>3</th>\n",
       "      <td>10/31/2020 9:37:07</td>\n",
       "      <td>2</td>\n",
       "      <td>1</td>\n",
       "      <td>Teknologi Informasi</td>\n",
       "      <td>1</td>\n",
       "      <td>4</td>\n",
       "      <td>2</td>\n",
       "      <td>0</td>\n",
       "      <td>0</td>\n",
       "      <td>0</td>\n",
       "      <td>...</td>\n",
       "      <td>2.0</td>\n",
       "      <td>0</td>\n",
       "      <td>0</td>\n",
       "      <td>0</td>\n",
       "      <td>0</td>\n",
       "      <td>0</td>\n",
       "      <td>0</td>\n",
       "      <td>0</td>\n",
       "      <td>1</td>\n",
       "      <td>0</td>\n",
       "    </tr>\n",
       "    <tr>\n",
       "      <th>4</th>\n",
       "      <td>10/31/2020 9:38:10</td>\n",
       "      <td>1</td>\n",
       "      <td>1</td>\n",
       "      <td>Teknologi Informasi</td>\n",
       "      <td>0</td>\n",
       "      <td>3</td>\n",
       "      <td>2</td>\n",
       "      <td>0</td>\n",
       "      <td>0</td>\n",
       "      <td>0</td>\n",
       "      <td>...</td>\n",
       "      <td>2.0</td>\n",
       "      <td>0</td>\n",
       "      <td>0</td>\n",
       "      <td>0</td>\n",
       "      <td>0</td>\n",
       "      <td>0</td>\n",
       "      <td>0</td>\n",
       "      <td>0</td>\n",
       "      <td>1</td>\n",
       "      <td>0</td>\n",
       "    </tr>\n",
       "  </tbody>\n",
       "</table>\n",
       "<p>5 rows × 21 columns</p>\n",
       "</div>"
      ],
      "text/plain": [
       "            timestamp  age  sex               occupation  must_use_phone  \\\n",
       "0  10/31/2020 9:29:02    1    1  Seni Kreatif dan Desain               0   \n",
       "1  10/31/2020 9:30:06    1    1  Seni Kreatif dan Desain               1   \n",
       "2  10/31/2020 9:31:32    1    1      Teknologi Informasi               0   \n",
       "3  10/31/2020 9:37:07    2    1      Teknologi Informasi               1   \n",
       "4  10/31/2020 9:38:10    1    1      Teknologi Informasi               0   \n",
       "\n",
       "   screen_time  sleep_time  is_smoker  is_alcoholics  \\\n",
       "0            2           1          0              0   \n",
       "1            2           1          0              0   \n",
       "2            2           2          0              0   \n",
       "3            4           2          0              0   \n",
       "4            3           2          0              0   \n",
       "\n",
       "   is_consuming_special_medicine  ...  difference_before_pandemic  \\\n",
       "0                              1  ...                         2.0   \n",
       "1                              0  ...                         2.0   \n",
       "2                              0  ...                         2.0   \n",
       "3                              0  ...                         2.0   \n",
       "4                              0  ...                         2.0   \n",
       "\n",
       "   occupation_Mahasiswa  occupation_Media Massa  occupation_Otomasi industri  \\\n",
       "0                     0                       0                            0   \n",
       "1                     0                       0                            0   \n",
       "2                     0                       0                            0   \n",
       "3                     0                       0                            0   \n",
       "4                     0                       0                            0   \n",
       "\n",
       "   occupation_Pendidikan  occupation_Perbankan  \\\n",
       "0                      0                     0   \n",
       "1                      0                     0   \n",
       "2                      0                     0   \n",
       "3                      0                     0   \n",
       "4                      0                     0   \n",
       "\n",
       "   occupation_Seni Kreatif dan Desain  occupation_Sosial  \\\n",
       "0                                   1                  0   \n",
       "1                                   1                  0   \n",
       "2                                   0                  0   \n",
       "3                                   0                  0   \n",
       "4                                   0                  0   \n",
       "\n",
       "   occupation_Teknologi Informasi  occupation_Telekomunikasi  \n",
       "0                               0                          0  \n",
       "1                               0                          0  \n",
       "2                               1                          0  \n",
       "3                               1                          0  \n",
       "4                               1                          0  \n",
       "\n",
       "[5 rows x 21 columns]"
      ]
     },
     "execution_count": 42,
     "metadata": {},
     "output_type": "execute_result"
    }
   ],
   "source": [
    "encoded = pd.read_csv(\"dataset/encoded.csv\")\n",
    "encoded.head()"
   ]
  },
  {
   "cell_type": "code",
   "execution_count": 43,
   "metadata": {},
   "outputs": [
    {
     "data": {
      "text/html": [
       "<div>\n",
       "<style scoped>\n",
       "    .dataframe tbody tr th:only-of-type {\n",
       "        vertical-align: middle;\n",
       "    }\n",
       "\n",
       "    .dataframe tbody tr th {\n",
       "        vertical-align: top;\n",
       "    }\n",
       "\n",
       "    .dataframe thead th {\n",
       "        text-align: right;\n",
       "    }\n",
       "</style>\n",
       "<table border=\"1\" class=\"dataframe\">\n",
       "  <thead>\n",
       "    <tr style=\"text-align: right;\">\n",
       "      <th>sleep_time</th>\n",
       "      <th>3 - 5 jam sehari</th>\n",
       "      <th>6 - 8 jam sehari</th>\n",
       "      <th>Kurang dari 2 jam sehari</th>\n",
       "    </tr>\n",
       "    <tr>\n",
       "      <th>age</th>\n",
       "      <th></th>\n",
       "      <th></th>\n",
       "      <th></th>\n",
       "    </tr>\n",
       "  </thead>\n",
       "  <tbody>\n",
       "    <tr>\n",
       "      <th>15-20</th>\n",
       "      <td>10</td>\n",
       "      <td>13</td>\n",
       "      <td>1</td>\n",
       "    </tr>\n",
       "    <tr>\n",
       "      <th>20-25</th>\n",
       "      <td>6</td>\n",
       "      <td>14</td>\n",
       "      <td>0</td>\n",
       "    </tr>\n",
       "    <tr>\n",
       "      <th>25-30</th>\n",
       "      <td>0</td>\n",
       "      <td>2</td>\n",
       "      <td>0</td>\n",
       "    </tr>\n",
       "    <tr>\n",
       "      <th>&gt;35</th>\n",
       "      <td>1</td>\n",
       "      <td>0</td>\n",
       "      <td>0</td>\n",
       "    </tr>\n",
       "  </tbody>\n",
       "</table>\n",
       "</div>"
      ],
      "text/plain": [
       "sleep_time  3 - 5 jam sehari  6 - 8 jam sehari  Kurang dari 2 jam sehari\n",
       "age                                                                     \n",
       "15-20                     10                13                         1\n",
       "20-25                      6                14                         0\n",
       "25-30                      0                 2                         0\n",
       ">35                        1                 0                         0"
      ]
     },
     "execution_count": 43,
     "metadata": {},
     "output_type": "execute_result"
    }
   ],
   "source": [
    "# sleep_time_with_age\n",
    "\n",
    "sleep_time_with_age = pd.crosstab([raw.age], [raw.sleep_time])\n",
    "sleep_time_with_age"
   ]
  },
  {
   "cell_type": "code",
   "execution_count": 44,
   "metadata": {},
   "outputs": [
    {
     "data": {
      "text/plain": [
       "(4.755611899932386,\n",
       " 0.5755179064165603,\n",
       " 6,\n",
       " array([[ 8.68085106, 14.80851064,  0.5106383 ],\n",
       "        [ 7.23404255, 12.34042553,  0.42553191],\n",
       "        [ 0.72340426,  1.23404255,  0.04255319],\n",
       "        [ 0.36170213,  0.61702128,  0.0212766 ]]))"
      ]
     },
     "execution_count": 44,
     "metadata": {},
     "output_type": "execute_result"
    }
   ],
   "source": [
    "# Chi-square test of independence.\n",
    "# Chi, P, Degree of Freedom, Expected\n",
    "chi2_contingency(sleep_time_with_age)"
   ]
  },
  {
   "cell_type": "code",
   "execution_count": 45,
   "metadata": {},
   "outputs": [
    {
     "data": {
      "text/html": [
       "<div>\n",
       "<style scoped>\n",
       "    .dataframe tbody tr th:only-of-type {\n",
       "        vertical-align: middle;\n",
       "    }\n",
       "\n",
       "    .dataframe tbody tr th {\n",
       "        vertical-align: top;\n",
       "    }\n",
       "\n",
       "    .dataframe thead th {\n",
       "        text-align: right;\n",
       "    }\n",
       "</style>\n",
       "<table border=\"1\" class=\"dataframe\">\n",
       "  <thead>\n",
       "    <tr style=\"text-align: right;\">\n",
       "      <th>sleep_time</th>\n",
       "      <th>3 - 5 jam sehari</th>\n",
       "      <th>6 - 8 jam sehari</th>\n",
       "      <th>Kurang dari 2 jam sehari</th>\n",
       "    </tr>\n",
       "    <tr>\n",
       "      <th>screen_time</th>\n",
       "      <th></th>\n",
       "      <th></th>\n",
       "      <th></th>\n",
       "    </tr>\n",
       "  </thead>\n",
       "  <tbody>\n",
       "    <tr>\n",
       "      <th>1 - 2 jam sehari</th>\n",
       "      <td>1</td>\n",
       "      <td>2</td>\n",
       "      <td>0</td>\n",
       "    </tr>\n",
       "    <tr>\n",
       "      <th>3 - 5 jam sehari</th>\n",
       "      <td>7</td>\n",
       "      <td>12</td>\n",
       "      <td>0</td>\n",
       "    </tr>\n",
       "    <tr>\n",
       "      <th>6 - 8 jam sehari</th>\n",
       "      <td>8</td>\n",
       "      <td>8</td>\n",
       "      <td>0</td>\n",
       "    </tr>\n",
       "    <tr>\n",
       "      <th>Kurang dari 1 jam sehari</th>\n",
       "      <td>1</td>\n",
       "      <td>0</td>\n",
       "      <td>0</td>\n",
       "    </tr>\n",
       "    <tr>\n",
       "      <th>Lebih dari 9 jam sehari</th>\n",
       "      <td>0</td>\n",
       "      <td>7</td>\n",
       "      <td>1</td>\n",
       "    </tr>\n",
       "  </tbody>\n",
       "</table>\n",
       "</div>"
      ],
      "text/plain": [
       "sleep_time                3 - 5 jam sehari  6 - 8 jam sehari  \\\n",
       "screen_time                                                    \n",
       "1 - 2 jam sehari                         1                 2   \n",
       "3 - 5 jam sehari                         7                12   \n",
       "6 - 8 jam sehari                         8                 8   \n",
       "Kurang dari 1 jam sehari                 1                 0   \n",
       "Lebih dari 9 jam sehari                  0                 7   \n",
       "\n",
       "sleep_time                Kurang dari 2 jam sehari  \n",
       "screen_time                                         \n",
       "1 - 2 jam sehari                                 0  \n",
       "3 - 5 jam sehari                                 0  \n",
       "6 - 8 jam sehari                                 0  \n",
       "Kurang dari 1 jam sehari                         0  \n",
       "Lebih dari 9 jam sehari                          1  "
      ]
     },
     "execution_count": 45,
     "metadata": {},
     "output_type": "execute_result"
    }
   ],
   "source": [
    "# sleep_time_with_screen_time\n",
    "\n",
    "sleep_time_with_screen = pd.crosstab([raw.screen_time], [raw.sleep_time])\n",
    "sleep_time_with_screen"
   ]
  },
  {
   "cell_type": "code",
   "execution_count": 46,
   "metadata": {},
   "outputs": [
    {
     "data": {
      "text/plain": [
       "(11.603652894914774,\n",
       " 0.16978314844220832,\n",
       " 8,\n",
       " array([[ 1.08510638,  1.85106383,  0.06382979],\n",
       "        [ 6.87234043, 11.72340426,  0.40425532],\n",
       "        [ 5.78723404,  9.87234043,  0.34042553],\n",
       "        [ 0.36170213,  0.61702128,  0.0212766 ],\n",
       "        [ 2.89361702,  4.93617021,  0.17021277]]))"
      ]
     },
     "execution_count": 46,
     "metadata": {},
     "output_type": "execute_result"
    }
   ],
   "source": [
    "chi2_contingency(sleep_time_with_screen)"
   ]
  },
  {
   "cell_type": "code",
   "execution_count": 47,
   "metadata": {},
   "outputs": [
    {
     "data": {
      "text/html": [
       "<div>\n",
       "<style scoped>\n",
       "    .dataframe tbody tr th:only-of-type {\n",
       "        vertical-align: middle;\n",
       "    }\n",
       "\n",
       "    .dataframe tbody tr th {\n",
       "        vertical-align: top;\n",
       "    }\n",
       "\n",
       "    .dataframe thead th {\n",
       "        text-align: right;\n",
       "    }\n",
       "</style>\n",
       "<table border=\"1\" class=\"dataframe\">\n",
       "  <thead>\n",
       "    <tr style=\"text-align: right;\">\n",
       "      <th>sleep_time</th>\n",
       "      <th>3 - 5 jam sehari</th>\n",
       "      <th>6 - 8 jam sehari</th>\n",
       "      <th>Kurang dari 2 jam sehari</th>\n",
       "    </tr>\n",
       "    <tr>\n",
       "      <th>occupation</th>\n",
       "      <th></th>\n",
       "      <th></th>\n",
       "      <th></th>\n",
       "    </tr>\n",
       "  </thead>\n",
       "  <tbody>\n",
       "    <tr>\n",
       "      <th>Media Massa</th>\n",
       "      <td>1</td>\n",
       "      <td>1</td>\n",
       "      <td>0</td>\n",
       "    </tr>\n",
       "    <tr>\n",
       "      <th>Otomasi industri</th>\n",
       "      <td>0</td>\n",
       "      <td>1</td>\n",
       "      <td>0</td>\n",
       "    </tr>\n",
       "    <tr>\n",
       "      <th>Pendidikan</th>\n",
       "      <td>4</td>\n",
       "      <td>3</td>\n",
       "      <td>1</td>\n",
       "    </tr>\n",
       "    <tr>\n",
       "      <th>Perbankan</th>\n",
       "      <td>0</td>\n",
       "      <td>3</td>\n",
       "      <td>0</td>\n",
       "    </tr>\n",
       "    <tr>\n",
       "      <th>Seni Kreatif dan Desain</th>\n",
       "      <td>3</td>\n",
       "      <td>3</td>\n",
       "      <td>0</td>\n",
       "    </tr>\n",
       "    <tr>\n",
       "      <th>Sosial</th>\n",
       "      <td>1</td>\n",
       "      <td>0</td>\n",
       "      <td>0</td>\n",
       "    </tr>\n",
       "    <tr>\n",
       "      <th>Teknologi Informasi</th>\n",
       "      <td>8</td>\n",
       "      <td>17</td>\n",
       "      <td>0</td>\n",
       "    </tr>\n",
       "    <tr>\n",
       "      <th>Telekomunikasi</th>\n",
       "      <td>0</td>\n",
       "      <td>1</td>\n",
       "      <td>0</td>\n",
       "    </tr>\n",
       "  </tbody>\n",
       "</table>\n",
       "</div>"
      ],
      "text/plain": [
       "sleep_time               3 - 5 jam sehari  6 - 8 jam sehari  \\\n",
       "occupation                                                    \n",
       "Media Massa                             1                 1   \n",
       "Otomasi industri                        0                 1   \n",
       "Pendidikan                              4                 3   \n",
       "Perbankan                               0                 3   \n",
       "Seni Kreatif dan Desain                 3                 3   \n",
       "Sosial                                  1                 0   \n",
       "Teknologi Informasi                     8                17   \n",
       "Telekomunikasi                          0                 1   \n",
       "\n",
       "sleep_time               Kurang dari 2 jam sehari  \n",
       "occupation                                         \n",
       "Media Massa                                     0  \n",
       "Otomasi industri                                0  \n",
       "Pendidikan                                      1  \n",
       "Perbankan                                       0  \n",
       "Seni Kreatif dan Desain                         0  \n",
       "Sosial                                          0  \n",
       "Teknologi Informasi                             0  \n",
       "Telekomunikasi                                  0  "
      ]
     },
     "execution_count": 47,
     "metadata": {},
     "output_type": "execute_result"
    }
   ],
   "source": [
    "# sleep_time_with_occupation\n",
    "\n",
    "sleep_time_with_occupation = pd.crosstab([raw.occupation], [raw.sleep_time])\n",
    "sleep_time_with_occupation"
   ]
  },
  {
   "cell_type": "code",
   "execution_count": 48,
   "metadata": {},
   "outputs": [
    {
     "data": {
      "text/plain": [
       "(11.679452332657203,\n",
       " 0.6320278624694696,\n",
       " 14,\n",
       " array([[ 0.72340426,  1.23404255,  0.04255319],\n",
       "        [ 0.36170213,  0.61702128,  0.0212766 ],\n",
       "        [ 2.89361702,  4.93617021,  0.17021277],\n",
       "        [ 1.08510638,  1.85106383,  0.06382979],\n",
       "        [ 2.17021277,  3.70212766,  0.12765957],\n",
       "        [ 0.36170213,  0.61702128,  0.0212766 ],\n",
       "        [ 9.04255319, 15.42553191,  0.53191489],\n",
       "        [ 0.36170213,  0.61702128,  0.0212766 ]]))"
      ]
     },
     "execution_count": 48,
     "metadata": {},
     "output_type": "execute_result"
    }
   ],
   "source": [
    "chi2_contingency(sleep_time_with_occupation)"
   ]
  },
  {
   "cell_type": "code",
   "execution_count": 49,
   "metadata": {},
   "outputs": [
    {
     "data": {
      "text/html": [
       "<div>\n",
       "<style scoped>\n",
       "    .dataframe tbody tr th:only-of-type {\n",
       "        vertical-align: middle;\n",
       "    }\n",
       "\n",
       "    .dataframe tbody tr th {\n",
       "        vertical-align: top;\n",
       "    }\n",
       "\n",
       "    .dataframe thead th {\n",
       "        text-align: right;\n",
       "    }\n",
       "</style>\n",
       "<table border=\"1\" class=\"dataframe\">\n",
       "  <thead>\n",
       "    <tr style=\"text-align: right;\">\n",
       "      <th>sleep_time</th>\n",
       "      <th>3 - 5 jam sehari</th>\n",
       "      <th>6 - 8 jam sehari</th>\n",
       "      <th>Kurang dari 2 jam sehari</th>\n",
       "    </tr>\n",
       "    <tr>\n",
       "      <th>must_use_phone</th>\n",
       "      <th></th>\n",
       "      <th></th>\n",
       "      <th></th>\n",
       "    </tr>\n",
       "  </thead>\n",
       "  <tbody>\n",
       "    <tr>\n",
       "      <th>Tidak</th>\n",
       "      <td>6</td>\n",
       "      <td>18</td>\n",
       "      <td>0</td>\n",
       "    </tr>\n",
       "    <tr>\n",
       "      <th>Ya</th>\n",
       "      <td>11</td>\n",
       "      <td>11</td>\n",
       "      <td>1</td>\n",
       "    </tr>\n",
       "  </tbody>\n",
       "</table>\n",
       "</div>"
      ],
      "text/plain": [
       "sleep_time      3 - 5 jam sehari  6 - 8 jam sehari  Kurang dari 2 jam sehari\n",
       "must_use_phone                                                              \n",
       "Tidak                          6                18                         0\n",
       "Ya                            11                11                         1"
      ]
     },
     "execution_count": 49,
     "metadata": {},
     "output_type": "execute_result"
    }
   ],
   "source": [
    "# sleep_time_with_screen_time\n",
    "\n",
    "sleep_time_with_forced_to_use_phone = pd.crosstab([raw.must_use_phone], [raw.sleep_time])\n",
    "sleep_time_with_forced_to_use_phone"
   ]
  },
  {
   "cell_type": "code",
   "execution_count": 50,
   "metadata": {},
   "outputs": [
    {
     "name": "stdout",
     "output_type": "stream",
     "text": [
      "(4.140841344033865, 0.1261327100414052, 2, array([[ 8.68085106, 14.80851064,  0.5106383 ],\n",
      "       [ 8.31914894, 14.19148936,  0.4893617 ]]))\n"
     ]
    }
   ],
   "source": [
    "print(chi2_contingency(sleep_time_with_forced_to_use_phone))"
   ]
  },
  {
   "cell_type": "code",
   "execution_count": 51,
   "metadata": {},
   "outputs": [
    {
     "data": {
      "text/html": [
       "<div>\n",
       "<style scoped>\n",
       "    .dataframe tbody tr th:only-of-type {\n",
       "        vertical-align: middle;\n",
       "    }\n",
       "\n",
       "    .dataframe tbody tr th {\n",
       "        vertical-align: top;\n",
       "    }\n",
       "\n",
       "    .dataframe thead th {\n",
       "        text-align: right;\n",
       "    }\n",
       "</style>\n",
       "<table border=\"1\" class=\"dataframe\">\n",
       "  <thead>\n",
       "    <tr style=\"text-align: right;\">\n",
       "      <th>sleep_time</th>\n",
       "      <th>3 - 5 jam sehari</th>\n",
       "      <th>6 - 8 jam sehari</th>\n",
       "      <th>Kurang dari 2 jam sehari</th>\n",
       "    </tr>\n",
       "    <tr>\n",
       "      <th>sex</th>\n",
       "      <th></th>\n",
       "      <th></th>\n",
       "      <th></th>\n",
       "    </tr>\n",
       "  </thead>\n",
       "  <tbody>\n",
       "    <tr>\n",
       "      <th>Pria</th>\n",
       "      <td>14</td>\n",
       "      <td>20</td>\n",
       "      <td>0</td>\n",
       "    </tr>\n",
       "    <tr>\n",
       "      <th>Wanita</th>\n",
       "      <td>3</td>\n",
       "      <td>9</td>\n",
       "      <td>1</td>\n",
       "    </tr>\n",
       "  </tbody>\n",
       "</table>\n",
       "</div>"
      ],
      "text/plain": [
       "sleep_time  3 - 5 jam sehari  6 - 8 jam sehari  Kurang dari 2 jam sehari\n",
       "sex                                                                     \n",
       "Pria                      14                20                         0\n",
       "Wanita                     3                 9                         1"
      ]
     },
     "execution_count": 51,
     "metadata": {},
     "output_type": "execute_result"
    }
   ],
   "source": [
    "# sleep_time_with_sex\n",
    "\n",
    "sleep_time_with_sex = pd.crosstab([raw.sex], [raw.sleep_time])\n",
    "sleep_time_with_sex"
   ]
  },
  {
   "cell_type": "code",
   "execution_count": 52,
   "metadata": {},
   "outputs": [
    {
     "data": {
      "text/plain": [
       "(3.6322083834313874,\n",
       " 0.16265820335341669,\n",
       " 2,\n",
       " array([[12.29787234, 20.9787234 ,  0.72340426],\n",
       "        [ 4.70212766,  8.0212766 ,  0.27659574]]))"
      ]
     },
     "execution_count": 52,
     "metadata": {},
     "output_type": "execute_result"
    }
   ],
   "source": [
    "chi2_contingency(sleep_time_with_sex)"
   ]
  },
  {
   "cell_type": "code",
   "execution_count": 53,
   "metadata": {},
   "outputs": [
    {
     "data": {
      "text/html": [
       "<div>\n",
       "<style scoped>\n",
       "    .dataframe tbody tr th:only-of-type {\n",
       "        vertical-align: middle;\n",
       "    }\n",
       "\n",
       "    .dataframe tbody tr th {\n",
       "        vertical-align: top;\n",
       "    }\n",
       "\n",
       "    .dataframe thead th {\n",
       "        text-align: right;\n",
       "    }\n",
       "</style>\n",
       "<table border=\"1\" class=\"dataframe\">\n",
       "  <thead>\n",
       "    <tr style=\"text-align: right;\">\n",
       "      <th>sleep_time</th>\n",
       "      <th>3 - 5 jam sehari</th>\n",
       "      <th>6 - 8 jam sehari</th>\n",
       "      <th>Kurang dari 2 jam sehari</th>\n",
       "    </tr>\n",
       "    <tr>\n",
       "      <th>is_smoker</th>\n",
       "      <th></th>\n",
       "      <th></th>\n",
       "      <th></th>\n",
       "    </tr>\n",
       "  </thead>\n",
       "  <tbody>\n",
       "    <tr>\n",
       "      <th>Tidak, saya bukan seorang perokok aktif</th>\n",
       "      <td>15</td>\n",
       "      <td>29</td>\n",
       "      <td>1</td>\n",
       "    </tr>\n",
       "    <tr>\n",
       "      <th>Ya, saya seorang perokok aktif</th>\n",
       "      <td>2</td>\n",
       "      <td>0</td>\n",
       "      <td>0</td>\n",
       "    </tr>\n",
       "  </tbody>\n",
       "</table>\n",
       "</div>"
      ],
      "text/plain": [
       "sleep_time                               3 - 5 jam sehari  6 - 8 jam sehari  \\\n",
       "is_smoker                                                                     \n",
       "Tidak, saya bukan seorang perokok aktif                15                29   \n",
       "Ya, saya seorang perokok aktif                          2                 0   \n",
       "\n",
       "sleep_time                               Kurang dari 2 jam sehari  \n",
       "is_smoker                                                          \n",
       "Tidak, saya bukan seorang perokok aktif                         1  \n",
       "Ya, saya seorang perokok aktif                                  0  "
      ]
     },
     "execution_count": 53,
     "metadata": {},
     "output_type": "execute_result"
    }
   ],
   "source": [
    "sleep_time_with_smoke_habits = pd.crosstab([raw.is_smoker], [raw.sleep_time])\n",
    "sleep_time_with_smoke_habits"
   ]
  },
  {
   "cell_type": "code",
   "execution_count": 54,
   "metadata": {},
   "outputs": [
    {
     "data": {
      "text/plain": [
       "(3.6862745098039214,\n",
       " 0.1583199561114644,\n",
       " 2,\n",
       " array([[16.27659574, 27.76595745,  0.95744681],\n",
       "        [ 0.72340426,  1.23404255,  0.04255319]]))"
      ]
     },
     "execution_count": 54,
     "metadata": {},
     "output_type": "execute_result"
    }
   ],
   "source": [
    "chi2_contingency(sleep_time_with_smoke_habits)"
   ]
  },
  {
   "cell_type": "code",
   "execution_count": 55,
   "metadata": {},
   "outputs": [
    {
     "data": {
      "text/html": [
       "<div>\n",
       "<style scoped>\n",
       "    .dataframe tbody tr th:only-of-type {\n",
       "        vertical-align: middle;\n",
       "    }\n",
       "\n",
       "    .dataframe tbody tr th {\n",
       "        vertical-align: top;\n",
       "    }\n",
       "\n",
       "    .dataframe thead th {\n",
       "        text-align: right;\n",
       "    }\n",
       "</style>\n",
       "<table border=\"1\" class=\"dataframe\">\n",
       "  <thead>\n",
       "    <tr style=\"text-align: right;\">\n",
       "      <th>sleep_time</th>\n",
       "      <th>3 - 5 jam sehari</th>\n",
       "      <th>6 - 8 jam sehari</th>\n",
       "      <th>Kurang dari 2 jam sehari</th>\n",
       "    </tr>\n",
       "    <tr>\n",
       "      <th>is_alcoholics</th>\n",
       "      <th></th>\n",
       "      <th></th>\n",
       "      <th></th>\n",
       "    </tr>\n",
       "  </thead>\n",
       "  <tbody>\n",
       "    <tr>\n",
       "      <th>Tidak</th>\n",
       "      <td>15</td>\n",
       "      <td>29</td>\n",
       "      <td>1</td>\n",
       "    </tr>\n",
       "    <tr>\n",
       "      <th>Ya</th>\n",
       "      <td>2</td>\n",
       "      <td>0</td>\n",
       "      <td>0</td>\n",
       "    </tr>\n",
       "  </tbody>\n",
       "</table>\n",
       "</div>"
      ],
      "text/plain": [
       "sleep_time     3 - 5 jam sehari  6 - 8 jam sehari  Kurang dari 2 jam sehari\n",
       "is_alcoholics                                                              \n",
       "Tidak                        15                29                         1\n",
       "Ya                            2                 0                         0"
      ]
     },
     "execution_count": 55,
     "metadata": {},
     "output_type": "execute_result"
    }
   ],
   "source": [
    "sleep_time_with_drink_habits = pd.crosstab([raw.is_alcoholics], [raw.sleep_time])\n",
    "sleep_time_with_drink_habits"
   ]
  },
  {
   "cell_type": "code",
   "execution_count": 56,
   "metadata": {},
   "outputs": [
    {
     "data": {
      "text/plain": [
       "(3.6862745098039214,\n",
       " 0.1583199561114644,\n",
       " 2,\n",
       " array([[16.27659574, 27.76595745,  0.95744681],\n",
       "        [ 0.72340426,  1.23404255,  0.04255319]]))"
      ]
     },
     "execution_count": 56,
     "metadata": {},
     "output_type": "execute_result"
    }
   ],
   "source": [
    "chi2_contingency(sleep_time_with_drink_habits)"
   ]
  },
  {
   "cell_type": "code",
   "execution_count": 57,
   "metadata": {},
   "outputs": [
    {
     "data": {
      "text/html": [
       "<div>\n",
       "<style scoped>\n",
       "    .dataframe tbody tr th:only-of-type {\n",
       "        vertical-align: middle;\n",
       "    }\n",
       "\n",
       "    .dataframe tbody tr th {\n",
       "        vertical-align: top;\n",
       "    }\n",
       "\n",
       "    .dataframe thead th {\n",
       "        text-align: right;\n",
       "    }\n",
       "</style>\n",
       "<table border=\"1\" class=\"dataframe\">\n",
       "  <thead>\n",
       "    <tr style=\"text-align: right;\">\n",
       "      <th>sleep_time</th>\n",
       "      <th>3 - 5 jam sehari</th>\n",
       "      <th>6 - 8 jam sehari</th>\n",
       "      <th>Kurang dari 2 jam sehari</th>\n",
       "    </tr>\n",
       "    <tr>\n",
       "      <th>is_screen_time_distract_sleep</th>\n",
       "      <th></th>\n",
       "      <th></th>\n",
       "      <th></th>\n",
       "    </tr>\n",
       "  </thead>\n",
       "  <tbody>\n",
       "    <tr>\n",
       "      <th>Mungkin</th>\n",
       "      <td>8</td>\n",
       "      <td>14</td>\n",
       "      <td>0</td>\n",
       "    </tr>\n",
       "    <tr>\n",
       "      <th>Tidak</th>\n",
       "      <td>5</td>\n",
       "      <td>7</td>\n",
       "      <td>0</td>\n",
       "    </tr>\n",
       "    <tr>\n",
       "      <th>Ya</th>\n",
       "      <td>4</td>\n",
       "      <td>8</td>\n",
       "      <td>1</td>\n",
       "    </tr>\n",
       "  </tbody>\n",
       "</table>\n",
       "</div>"
      ],
      "text/plain": [
       "sleep_time                     3 - 5 jam sehari  6 - 8 jam sehari  \\\n",
       "is_screen_time_distract_sleep                                       \n",
       "Mungkin                                       8                14   \n",
       "Tidak                                         5                 7   \n",
       "Ya                                            4                 8   \n",
       "\n",
       "sleep_time                     Kurang dari 2 jam sehari  \n",
       "is_screen_time_distract_sleep                            \n",
       "Mungkin                                               0  \n",
       "Tidak                                                 0  \n",
       "Ya                                                    1  "
      ]
     },
     "execution_count": 57,
     "metadata": {},
     "output_type": "execute_result"
    }
   ],
   "source": [
    "sleep_time_with_sleep_distracted = pd.crosstab([raw.is_screen_time_distract_sleep], [raw.sleep_time])\n",
    "sleep_time_with_sleep_distracted"
   ]
  },
  {
   "cell_type": "code",
   "execution_count": 58,
   "metadata": {},
   "outputs": [
    {
     "data": {
      "text/plain": [
       "(2.856151623900102,\n",
       " 0.5821793511658522,\n",
       " 4,\n",
       " array([[ 7.95744681, 13.57446809,  0.46808511],\n",
       "        [ 4.34042553,  7.40425532,  0.25531915],\n",
       "        [ 4.70212766,  8.0212766 ,  0.27659574]]))"
      ]
     },
     "execution_count": 58,
     "metadata": {},
     "output_type": "execute_result"
    }
   ],
   "source": [
    "chi2_contingency(sleep_time_with_sleep_distracted)"
   ]
  },
  {
   "cell_type": "code",
   "execution_count": 59,
   "metadata": {},
   "outputs": [
    {
     "data": {
      "text/html": [
       "<div>\n",
       "<style scoped>\n",
       "    .dataframe tbody tr th:only-of-type {\n",
       "        vertical-align: middle;\n",
       "    }\n",
       "\n",
       "    .dataframe tbody tr th {\n",
       "        vertical-align: top;\n",
       "    }\n",
       "\n",
       "    .dataframe thead th {\n",
       "        text-align: right;\n",
       "    }\n",
       "</style>\n",
       "<table border=\"1\" class=\"dataframe\">\n",
       "  <thead>\n",
       "    <tr style=\"text-align: right;\">\n",
       "      <th>sleep_time</th>\n",
       "      <th>3 - 5 jam sehari</th>\n",
       "      <th>6 - 8 jam sehari</th>\n",
       "      <th>Kurang dari 2 jam sehari</th>\n",
       "    </tr>\n",
       "    <tr>\n",
       "      <th>difference_before_pandemic</th>\n",
       "      <th></th>\n",
       "      <th></th>\n",
       "      <th></th>\n",
       "    </tr>\n",
       "  </thead>\n",
       "  <tbody>\n",
       "    <tr>\n",
       "      <th>Tidak ada perubahan</th>\n",
       "      <td>6</td>\n",
       "      <td>5</td>\n",
       "      <td>0</td>\n",
       "    </tr>\n",
       "    <tr>\n",
       "      <th>Ya, lebih sering menatap layar ponsel saat pandemi</th>\n",
       "      <td>11</td>\n",
       "      <td>22</td>\n",
       "      <td>1</td>\n",
       "    </tr>\n",
       "  </tbody>\n",
       "</table>\n",
       "</div>"
      ],
      "text/plain": [
       "sleep_time                                          3 - 5 jam sehari  \\\n",
       "difference_before_pandemic                                             \n",
       "Tidak ada perubahan                                                6   \n",
       "Ya, lebih sering menatap layar ponsel saat pandemi                11   \n",
       "\n",
       "sleep_time                                          6 - 8 jam sehari  \\\n",
       "difference_before_pandemic                                             \n",
       "Tidak ada perubahan                                                5   \n",
       "Ya, lebih sering menatap layar ponsel saat pandemi                22   \n",
       "\n",
       "sleep_time                                          Kurang dari 2 jam sehari  \n",
       "difference_before_pandemic                                                    \n",
       "Tidak ada perubahan                                                        0  \n",
       "Ya, lebih sering menatap layar ponsel saat pandemi                         1  "
      ]
     },
     "execution_count": 59,
     "metadata": {},
     "output_type": "execute_result"
    }
   ],
   "source": [
    "sleep_time_with_screen_habits_change = pd.crosstab([raw.difference_before_pandemic], [raw.sleep_time])\n",
    "sleep_time_with_screen_habits_change"
   ]
  },
  {
   "cell_type": "code",
   "execution_count": 60,
   "metadata": {},
   "outputs": [
    {
     "data": {
      "text/plain": [
       "(1.9204152249134947,\n",
       " 0.3828134008937157,\n",
       " 2,\n",
       " array([[ 4.15555556,  6.6       ,  0.24444444],\n",
       "        [12.84444444, 20.4       ,  0.75555556]]))"
      ]
     },
     "execution_count": 60,
     "metadata": {},
     "output_type": "execute_result"
    }
   ],
   "source": [
    "chi2_contingency(sleep_time_with_screen_habits_change)"
   ]
  },
  {
   "cell_type": "code",
   "execution_count": 61,
   "metadata": {},
   "outputs": [],
   "source": [
    "# P value tidak ada yang bernilai di bawah alpha normal yakni 0.05. Maka Variabel Dependen Sleep Time\n",
    "# tidak berkorelasi dengan variabel bebas di atas. \n",
    "\n",
    "# Pengembangan selanjutnya bisa dilakukan dengan pengambilan data yang berbeda seperti screen time total \n",
    "# pada handphone, tv, laptop dan gadget ber-layar lainnya. "
   ]
  },
  {
   "cell_type": "code",
   "execution_count": null,
   "metadata": {},
   "outputs": [],
   "source": []
  }
 ],
 "metadata": {
  "kernelspec": {
   "display_name": "Python 3",
   "language": "python",
   "name": "python3"
  },
  "language_info": {
   "codemirror_mode": {
    "name": "ipython",
    "version": 3
   },
   "file_extension": ".py",
   "mimetype": "text/x-python",
   "name": "python",
   "nbconvert_exporter": "python",
   "pygments_lexer": "ipython3",
   "version": "3.8.5"
  }
 },
 "nbformat": 4,
 "nbformat_minor": 4
}
